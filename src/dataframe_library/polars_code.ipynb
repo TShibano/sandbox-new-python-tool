{
 "cells": [
  {
   "cell_type": "markdown",
   "metadata": {},
   "source": [
    "# データ処理方法 -polars- \n",
    "こちらはpolarsのコードを書く．"
   ]
  },
  {
   "cell_type": "markdown",
   "metadata": {},
   "source": [
    "## ライブラリのインポート"
   ]
  },
  {
   "cell_type": "code",
   "execution_count": 1,
   "metadata": {},
   "outputs": [],
   "source": [
    "import polars as pl"
   ]
  },
  {
   "cell_type": "code",
   "execution_count": 2,
   "metadata": {},
   "outputs": [
    {
     "name": "stdout",
     "output_type": "stream",
     "text": [
      "1.3.0\n"
     ]
    }
   ],
   "source": [
    "print(pl.__version__)"
   ]
  },
  {
   "cell_type": "markdown",
   "metadata": {},
   "source": [
    "## データの読み込み\n",
    "今回は3種類のデータを用意\n",
    "* データ1\n",
    "    * 100万行4列\n",
    "* データ2\n",
    "    * 50万行4列\n",
    "    * データ1と同じ列\n",
    "* 重みデータ\n",
    "    * データ1とデータ2に存在する2つの列(\"group1\", \"group2\")の各値に対する重み値を保存しているデータ"
   ]
  },
  {
   "cell_type": "code",
   "execution_count": 116,
   "metadata": {},
   "outputs": [
    {
     "name": "stdout",
     "output_type": "stream",
     "text": [
      "281 ms ± 125 ms per loop (mean ± std. dev. of 7 runs, 1 loop each)\n"
     ]
    }
   ],
   "source": [
    "%%timeit\n",
    "data1 = pl.read_csv(\"./sample_data/data1.csv\")"
   ]
  },
  {
   "cell_type": "code",
   "execution_count": 44,
   "metadata": {},
   "outputs": [],
   "source": [
    "data2 = pl.read_csv(\"./sample_data/data2.csv\")\n",
    "weight_data = pl.read_excel(\"./sample_data/weight_data.xlsx\")"
   ]
  },
  {
   "cell_type": "markdown",
   "metadata": {},
   "source": [
    "## データの確認"
   ]
  },
  {
   "cell_type": "markdown",
   "metadata": {},
   "source": [
    "* サイズの確認\n",
    "    * `shape`\n",
    "* データの表示\n",
    "    * `head()`\n",
    "    * `tail()`\n",
    "    * `sample()`\n",
    "* 要約量の表示\n",
    "    * `describe()`\n",
    "* グループごとに計算\n",
    "    * `group_by()`"
   ]
  },
  {
   "cell_type": "code",
   "execution_count": 39,
   "metadata": {},
   "outputs": [
    {
     "data": {
      "text/plain": [
       "((1000000, 4), (500000, 4), (9, 3))"
      ]
     },
     "execution_count": 39,
     "metadata": {},
     "output_type": "execute_result"
    }
   ],
   "source": [
    "data1.shape, data2.shape, weight_data.shape"
   ]
  },
  {
   "cell_type": "code",
   "execution_count": 6,
   "metadata": {},
   "outputs": [
    {
     "data": {
      "text/html": [
       "<div><style>\n",
       ".dataframe > thead > tr,\n",
       ".dataframe > tbody > tr {\n",
       "  text-align: right;\n",
       "  white-space: pre-wrap;\n",
       "}\n",
       "</style>\n",
       "<small>shape: (10, 4)</small><table border=\"1\" class=\"dataframe\"><thead><tr><th>id</th><th>group1</th><th>group2</th><th>value</th></tr><tr><td>i64</td><td>str</td><td>str</td><td>f64</td></tr></thead><tbody><tr><td>1</td><td>&quot;B&quot;</td><td>&quot;Y&quot;</td><td>0.177553</td></tr><tr><td>2</td><td>&quot;A&quot;</td><td>&quot;X&quot;</td><td>-0.356422</td></tr><tr><td>3</td><td>&quot;A&quot;</td><td>&quot;Y&quot;</td><td>-0.722236</td></tr><tr><td>4</td><td>&quot;A&quot;</td><td>&quot;X&quot;</td><td>0.631321</td></tr><tr><td>5</td><td>&quot;C&quot;</td><td>&quot;X&quot;</td><td>-0.667093</td></tr><tr><td>6</td><td>&quot;C&quot;</td><td>&quot;Y&quot;</td><td>-0.400045</td></tr><tr><td>7</td><td>&quot;C&quot;</td><td>&quot;Y&quot;</td><td>-0.113321</td></tr><tr><td>8</td><td>&quot;A&quot;</td><td>&quot;Y&quot;</td><td>-1.529201</td></tr><tr><td>9</td><td>&quot;B&quot;</td><td>&quot;Y&quot;</td><td>0.387957</td></tr><tr><td>10</td><td>&quot;A&quot;</td><td>&quot;Y&quot;</td><td>-0.191305</td></tr></tbody></table></div>"
      ],
      "text/plain": [
       "shape: (10, 4)\n",
       "┌─────┬────────┬────────┬───────────┐\n",
       "│ id  ┆ group1 ┆ group2 ┆ value     │\n",
       "│ --- ┆ ---    ┆ ---    ┆ ---       │\n",
       "│ i64 ┆ str    ┆ str    ┆ f64       │\n",
       "╞═════╪════════╪════════╪═══════════╡\n",
       "│ 1   ┆ B      ┆ Y      ┆ 0.177553  │\n",
       "│ 2   ┆ A      ┆ X      ┆ -0.356422 │\n",
       "│ 3   ┆ A      ┆ Y      ┆ -0.722236 │\n",
       "│ 4   ┆ A      ┆ X      ┆ 0.631321  │\n",
       "│ 5   ┆ C      ┆ X      ┆ -0.667093 │\n",
       "│ 6   ┆ C      ┆ Y      ┆ -0.400045 │\n",
       "│ 7   ┆ C      ┆ Y      ┆ -0.113321 │\n",
       "│ 8   ┆ A      ┆ Y      ┆ -1.529201 │\n",
       "│ 9   ┆ B      ┆ Y      ┆ 0.387957  │\n",
       "│ 10  ┆ A      ┆ Y      ┆ -0.191305 │\n",
       "└─────┴────────┴────────┴───────────┘"
      ]
     },
     "execution_count": 6,
     "metadata": {},
     "output_type": "execute_result"
    }
   ],
   "source": [
    "# 先頭から10行を表示\n",
    "data1.head(n=10)"
   ]
  },
  {
   "cell_type": "code",
   "execution_count": 46,
   "metadata": {},
   "outputs": [
    {
     "data": {
      "text/html": [
       "<div><style>\n",
       ".dataframe > thead > tr,\n",
       ".dataframe > tbody > tr {\n",
       "  text-align: right;\n",
       "  white-space: pre-wrap;\n",
       "}\n",
       "</style>\n",
       "<small>shape: (5, 4)</small><table border=\"1\" class=\"dataframe\"><thead><tr><th>id</th><th>group1</th><th>group2</th><th>value</th></tr><tr><td>i64</td><td>str</td><td>str</td><td>f64</td></tr></thead><tbody><tr><td>1361753</td><td>&quot;B&quot;</td><td>&quot;Y&quot;</td><td>-0.055159</td></tr><tr><td>1392428</td><td>&quot;C&quot;</td><td>&quot;Z&quot;</td><td>0.88846</td></tr><tr><td>1067036</td><td>&quot;C&quot;</td><td>&quot;X&quot;</td><td>-0.196577</td></tr><tr><td>1483125</td><td>&quot;B&quot;</td><td>&quot;Y&quot;</td><td>-0.347477</td></tr><tr><td>1218072</td><td>&quot;A&quot;</td><td>&quot;Z&quot;</td><td>2.010337</td></tr></tbody></table></div>"
      ],
      "text/plain": [
       "shape: (5, 4)\n",
       "┌─────────┬────────┬────────┬───────────┐\n",
       "│ id      ┆ group1 ┆ group2 ┆ value     │\n",
       "│ ---     ┆ ---    ┆ ---    ┆ ---       │\n",
       "│ i64     ┆ str    ┆ str    ┆ f64       │\n",
       "╞═════════╪════════╪════════╪═══════════╡\n",
       "│ 1361753 ┆ B      ┆ Y      ┆ -0.055159 │\n",
       "│ 1392428 ┆ C      ┆ Z      ┆ 0.88846   │\n",
       "│ 1067036 ┆ C      ┆ X      ┆ -0.196577 │\n",
       "│ 1483125 ┆ B      ┆ Y      ┆ -0.347477 │\n",
       "│ 1218072 ┆ A      ┆ Z      ┆ 2.010337  │\n",
       "└─────────┴────────┴────────┴───────────┘"
      ]
     },
     "execution_count": 46,
     "metadata": {},
     "output_type": "execute_result"
    }
   ],
   "source": [
    "# ランダムに5行表示\n",
    "data2.sample(n=5)"
   ]
  },
  {
   "cell_type": "code",
   "execution_count": 48,
   "metadata": {},
   "outputs": [
    {
     "data": {
      "text/html": [
       "<div><style>\n",
       ".dataframe > thead > tr,\n",
       ".dataframe > tbody > tr {\n",
       "  text-align: right;\n",
       "  white-space: pre-wrap;\n",
       "}\n",
       "</style>\n",
       "<small>shape: (9, 3)</small><table border=\"1\" class=\"dataframe\"><thead><tr><th>group1</th><th>group2</th><th>weight</th></tr><tr><td>str</td><td>str</td><td>i64</td></tr></thead><tbody><tr><td>&quot;A&quot;</td><td>&quot;X&quot;</td><td>5</td></tr><tr><td>&quot;A&quot;</td><td>&quot;Y&quot;</td><td>6</td></tr><tr><td>&quot;A&quot;</td><td>&quot;Z&quot;</td><td>1</td></tr><tr><td>&quot;B&quot;</td><td>&quot;X&quot;</td><td>4</td></tr><tr><td>&quot;B&quot;</td><td>&quot;Y&quot;</td><td>9</td></tr><tr><td>&quot;B&quot;</td><td>&quot;Z&quot;</td><td>8</td></tr><tr><td>&quot;C&quot;</td><td>&quot;X&quot;</td><td>5</td></tr><tr><td>&quot;C&quot;</td><td>&quot;Y&quot;</td><td>4</td></tr><tr><td>&quot;C&quot;</td><td>&quot;Z&quot;</td><td>4</td></tr></tbody></table></div>"
      ],
      "text/plain": [
       "shape: (9, 3)\n",
       "┌────────┬────────┬────────┐\n",
       "│ group1 ┆ group2 ┆ weight │\n",
       "│ ---    ┆ ---    ┆ ---    │\n",
       "│ str    ┆ str    ┆ i64    │\n",
       "╞════════╪════════╪════════╡\n",
       "│ A      ┆ X      ┆ 5      │\n",
       "│ A      ┆ Y      ┆ 6      │\n",
       "│ A      ┆ Z      ┆ 1      │\n",
       "│ B      ┆ X      ┆ 4      │\n",
       "│ B      ┆ Y      ┆ 9      │\n",
       "│ B      ┆ Z      ┆ 8      │\n",
       "│ C      ┆ X      ┆ 5      │\n",
       "│ C      ┆ Y      ┆ 4      │\n",
       "│ C      ┆ Z      ┆ 4      │\n",
       "└────────┴────────┴────────┘"
      ]
     },
     "execution_count": 48,
     "metadata": {},
     "output_type": "execute_result"
    }
   ],
   "source": [
    "weight_data.tail(n=9)"
   ]
  },
  {
   "cell_type": "code",
   "execution_count": 9,
   "metadata": {},
   "outputs": [
    {
     "data": {
      "text/html": [
       "<div><style>\n",
       ".dataframe > thead > tr,\n",
       ".dataframe > tbody > tr {\n",
       "  text-align: right;\n",
       "  white-space: pre-wrap;\n",
       "}\n",
       "</style>\n",
       "<small>shape: (9, 5)</small><table border=\"1\" class=\"dataframe\"><thead><tr><th>statistic</th><th>id</th><th>group1</th><th>group2</th><th>value</th></tr><tr><td>str</td><td>f64</td><td>str</td><td>str</td><td>f64</td></tr></thead><tbody><tr><td>&quot;count&quot;</td><td>1e6</td><td>&quot;967878&quot;</td><td>&quot;967614&quot;</td><td>1e6</td></tr><tr><td>&quot;null_count&quot;</td><td>0.0</td><td>&quot;32122&quot;</td><td>&quot;32386&quot;</td><td>0.0</td></tr><tr><td>&quot;mean&quot;</td><td>500000.5</td><td>null</td><td>null</td><td>-0.00055</td></tr><tr><td>&quot;std&quot;</td><td>288675.278932</td><td>null</td><td>null</td><td>1.000681</td></tr><tr><td>&quot;min&quot;</td><td>1.0</td><td>&quot;A&quot;</td><td>&quot;X&quot;</td><td>-4.981772</td></tr><tr><td>&quot;25%&quot;</td><td>250001.0</td><td>null</td><td>null</td><td>-0.674317</td></tr><tr><td>&quot;50%&quot;</td><td>500001.0</td><td>null</td><td>null</td><td>-0.001001</td></tr><tr><td>&quot;75%&quot;</td><td>750000.0</td><td>null</td><td>null</td><td>0.673354</td></tr><tr><td>&quot;max&quot;</td><td>1e6</td><td>&quot;C&quot;</td><td>&quot;Z&quot;</td><td>4.710577</td></tr></tbody></table></div>"
      ],
      "text/plain": [
       "shape: (9, 5)\n",
       "┌────────────┬───────────────┬────────┬────────┬───────────┐\n",
       "│ statistic  ┆ id            ┆ group1 ┆ group2 ┆ value     │\n",
       "│ ---        ┆ ---           ┆ ---    ┆ ---    ┆ ---       │\n",
       "│ str        ┆ f64           ┆ str    ┆ str    ┆ f64       │\n",
       "╞════════════╪═══════════════╪════════╪════════╪═══════════╡\n",
       "│ count      ┆ 1e6           ┆ 967878 ┆ 967614 ┆ 1e6       │\n",
       "│ null_count ┆ 0.0           ┆ 32122  ┆ 32386  ┆ 0.0       │\n",
       "│ mean       ┆ 500000.5      ┆ null   ┆ null   ┆ -0.00055  │\n",
       "│ std        ┆ 288675.278932 ┆ null   ┆ null   ┆ 1.000681  │\n",
       "│ min        ┆ 1.0           ┆ A      ┆ X      ┆ -4.981772 │\n",
       "│ 25%        ┆ 250001.0      ┆ null   ┆ null   ┆ -0.674317 │\n",
       "│ 50%        ┆ 500001.0      ┆ null   ┆ null   ┆ -0.001001 │\n",
       "│ 75%        ┆ 750000.0      ┆ null   ┆ null   ┆ 0.673354  │\n",
       "│ max        ┆ 1e6           ┆ C      ┆ Z      ┆ 4.710577  │\n",
       "└────────────┴───────────────┴────────┴────────┴───────────┘"
      ]
     },
     "execution_count": 9,
     "metadata": {},
     "output_type": "execute_result"
    }
   ],
   "source": [
    "# 要約量を表示する\n",
    "data1.describe()"
   ]
  },
  {
   "cell_type": "markdown",
   "metadata": {},
   "source": [
    "## データ操作\n",
    "ここでの操作方法は後の前処理でたくさん使われる．\n",
    "* 列の操作\n",
    "    * `select()`\n",
    "* 行の操作\n",
    "    * `filter()`\n",
    "* グループ化\n",
    "    * `group_by()`"
   ]
  },
  {
   "cell_type": "markdown",
   "metadata": {},
   "source": [
    "### 列の操作"
   ]
  },
  {
   "cell_type": "code",
   "execution_count": 10,
   "metadata": {},
   "outputs": [
    {
     "data": {
      "text/html": [
       "<div><style>\n",
       ".dataframe > thead > tr,\n",
       ".dataframe > tbody > tr {\n",
       "  text-align: right;\n",
       "  white-space: pre-wrap;\n",
       "}\n",
       "</style>\n",
       "<small>shape: (1_000_000, 4)</small><table border=\"1\" class=\"dataframe\"><thead><tr><th>id</th><th>group1</th><th>group2</th><th>value</th></tr><tr><td>i64</td><td>str</td><td>str</td><td>f64</td></tr></thead><tbody><tr><td>1</td><td>&quot;B&quot;</td><td>&quot;Y&quot;</td><td>0.177553</td></tr><tr><td>2</td><td>&quot;A&quot;</td><td>&quot;X&quot;</td><td>-0.356422</td></tr><tr><td>3</td><td>&quot;A&quot;</td><td>&quot;Y&quot;</td><td>-0.722236</td></tr><tr><td>4</td><td>&quot;A&quot;</td><td>&quot;X&quot;</td><td>0.631321</td></tr><tr><td>5</td><td>&quot;C&quot;</td><td>&quot;X&quot;</td><td>-0.667093</td></tr><tr><td>&hellip;</td><td>&hellip;</td><td>&hellip;</td><td>&hellip;</td></tr><tr><td>999996</td><td>&quot;C&quot;</td><td>&quot;Y&quot;</td><td>-0.213528</td></tr><tr><td>999997</td><td>&quot;C&quot;</td><td>&quot;Y&quot;</td><td>0.940286</td></tr><tr><td>999998</td><td>&quot;C&quot;</td><td>&quot;Z&quot;</td><td>-0.449927</td></tr><tr><td>999999</td><td>&quot;B&quot;</td><td>&quot;Y&quot;</td><td>0.411539</td></tr><tr><td>1000000</td><td>&quot;B&quot;</td><td>&quot;X&quot;</td><td>-1.040737</td></tr></tbody></table></div>"
      ],
      "text/plain": [
       "shape: (1_000_000, 4)\n",
       "┌─────────┬────────┬────────┬───────────┐\n",
       "│ id      ┆ group1 ┆ group2 ┆ value     │\n",
       "│ ---     ┆ ---    ┆ ---    ┆ ---       │\n",
       "│ i64     ┆ str    ┆ str    ┆ f64       │\n",
       "╞═════════╪════════╪════════╪═══════════╡\n",
       "│ 1       ┆ B      ┆ Y      ┆ 0.177553  │\n",
       "│ 2       ┆ A      ┆ X      ┆ -0.356422 │\n",
       "│ 3       ┆ A      ┆ Y      ┆ -0.722236 │\n",
       "│ 4       ┆ A      ┆ X      ┆ 0.631321  │\n",
       "│ 5       ┆ C      ┆ X      ┆ -0.667093 │\n",
       "│ …       ┆ …      ┆ …      ┆ …         │\n",
       "│ 999996  ┆ C      ┆ Y      ┆ -0.213528 │\n",
       "│ 999997  ┆ C      ┆ Y      ┆ 0.940286  │\n",
       "│ 999998  ┆ C      ┆ Z      ┆ -0.449927 │\n",
       "│ 999999  ┆ B      ┆ Y      ┆ 0.411539  │\n",
       "│ 1000000 ┆ B      ┆ X      ┆ -1.040737 │\n",
       "└─────────┴────────┴────────┴───────────┘"
      ]
     },
     "execution_count": 10,
     "metadata": {},
     "output_type": "execute_result"
    }
   ],
   "source": [
    "# すべての列を表示\n",
    "data1.select(pl.col(\"*\"))"
   ]
  },
  {
   "cell_type": "code",
   "execution_count": 11,
   "metadata": {},
   "outputs": [
    {
     "data": {
      "text/html": [
       "<div><style>\n",
       ".dataframe > thead > tr,\n",
       ".dataframe > tbody > tr {\n",
       "  text-align: right;\n",
       "  white-space: pre-wrap;\n",
       "}\n",
       "</style>\n",
       "<small>shape: (1_000_000, 2)</small><table border=\"1\" class=\"dataframe\"><thead><tr><th>group1</th><th>group2</th></tr><tr><td>str</td><td>str</td></tr></thead><tbody><tr><td>&quot;B&quot;</td><td>&quot;Y&quot;</td></tr><tr><td>&quot;A&quot;</td><td>&quot;X&quot;</td></tr><tr><td>&quot;A&quot;</td><td>&quot;Y&quot;</td></tr><tr><td>&quot;A&quot;</td><td>&quot;X&quot;</td></tr><tr><td>&quot;C&quot;</td><td>&quot;X&quot;</td></tr><tr><td>&hellip;</td><td>&hellip;</td></tr><tr><td>&quot;C&quot;</td><td>&quot;Y&quot;</td></tr><tr><td>&quot;C&quot;</td><td>&quot;Y&quot;</td></tr><tr><td>&quot;C&quot;</td><td>&quot;Z&quot;</td></tr><tr><td>&quot;B&quot;</td><td>&quot;Y&quot;</td></tr><tr><td>&quot;B&quot;</td><td>&quot;X&quot;</td></tr></tbody></table></div>"
      ],
      "text/plain": [
       "shape: (1_000_000, 2)\n",
       "┌────────┬────────┐\n",
       "│ group1 ┆ group2 │\n",
       "│ ---    ┆ ---    │\n",
       "│ str    ┆ str    │\n",
       "╞════════╪════════╡\n",
       "│ B      ┆ Y      │\n",
       "│ A      ┆ X      │\n",
       "│ A      ┆ Y      │\n",
       "│ A      ┆ X      │\n",
       "│ C      ┆ X      │\n",
       "│ …      ┆ …      │\n",
       "│ C      ┆ Y      │\n",
       "│ C      ┆ Y      │\n",
       "│ C      ┆ Z      │\n",
       "│ B      ┆ Y      │\n",
       "│ B      ┆ X      │\n",
       "└────────┴────────┘"
      ]
     },
     "execution_count": 11,
     "metadata": {},
     "output_type": "execute_result"
    }
   ],
   "source": [
    "# 正規表現で列を抽出する\n",
    "data1.select(pl.col(\"^gro.*$\"))"
   ]
  },
  {
   "cell_type": "code",
   "execution_count": 23,
   "metadata": {},
   "outputs": [
    {
     "data": {
      "text/html": [
       "<div><style>\n",
       ".dataframe > thead > tr,\n",
       ".dataframe > tbody > tr {\n",
       "  text-align: right;\n",
       "  white-space: pre-wrap;\n",
       "}\n",
       "</style>\n",
       "<small>shape: (1_000_000, 2)</small><table border=\"1\" class=\"dataframe\"><thead><tr><th>id</th><th>value</th></tr><tr><td>i64</td><td>f64</td></tr></thead><tbody><tr><td>1</td><td>0.177553</td></tr><tr><td>2</td><td>-0.356422</td></tr><tr><td>3</td><td>-0.722236</td></tr><tr><td>4</td><td>0.631321</td></tr><tr><td>5</td><td>-0.667093</td></tr><tr><td>&hellip;</td><td>&hellip;</td></tr><tr><td>999996</td><td>-0.213528</td></tr><tr><td>999997</td><td>0.940286</td></tr><tr><td>999998</td><td>-0.449927</td></tr><tr><td>999999</td><td>0.411539</td></tr><tr><td>1000000</td><td>-1.040737</td></tr></tbody></table></div>"
      ],
      "text/plain": [
       "shape: (1_000_000, 2)\n",
       "┌─────────┬───────────┐\n",
       "│ id      ┆ value     │\n",
       "│ ---     ┆ ---       │\n",
       "│ i64     ┆ f64       │\n",
       "╞═════════╪═══════════╡\n",
       "│ 1       ┆ 0.177553  │\n",
       "│ 2       ┆ -0.356422 │\n",
       "│ 3       ┆ -0.722236 │\n",
       "│ 4       ┆ 0.631321  │\n",
       "│ 5       ┆ -0.667093 │\n",
       "│ …       ┆ …         │\n",
       "│ 999996  ┆ -0.213528 │\n",
       "│ 999997  ┆ 0.940286  │\n",
       "│ 999998  ┆ -0.449927 │\n",
       "│ 999999  ┆ 0.411539  │\n",
       "│ 1000000 ┆ -1.040737 │\n",
       "└─────────┴───────────┘"
      ]
     },
     "execution_count": 23,
     "metadata": {},
     "output_type": "execute_result"
    }
   ],
   "source": [
    "# ある列以外を表示する\n",
    "data1.select(pl.exclude(\"^gro.*$\"))"
   ]
  },
  {
   "cell_type": "code",
   "execution_count": 21,
   "metadata": {},
   "outputs": [
    {
     "data": {
      "text/html": [
       "<div><style>\n",
       ".dataframe > thead > tr,\n",
       ".dataframe > tbody > tr {\n",
       "  text-align: right;\n",
       "  white-space: pre-wrap;\n",
       "}\n",
       "</style>\n",
       "<small>shape: (4, 2)</small><table border=\"1\" class=\"dataframe\"><thead><tr><th>group1</th><th>group2</th></tr><tr><td>struct[2]</td><td>struct[2]</td></tr></thead><tbody><tr><td>{&quot;B&quot;,322823}</td><td>{&quot;Z&quot;,322769}</td></tr><tr><td>{&quot;A&quot;,322416}</td><td>{&quot;Y&quot;,321854}</td></tr><tr><td>{&quot;C&quot;,322639}</td><td>{&quot;X&quot;,322991}</td></tr><tr><td>{null,32122}</td><td>{null,32386}</td></tr></tbody></table></div>"
      ],
      "text/plain": [
       "shape: (4, 2)\n",
       "┌──────────────┬──────────────┐\n",
       "│ group1       ┆ group2       │\n",
       "│ ---          ┆ ---          │\n",
       "│ struct[2]    ┆ struct[2]    │\n",
       "╞══════════════╪══════════════╡\n",
       "│ {\"B\",322823} ┆ {\"Z\",322769} │\n",
       "│ {\"A\",322416} ┆ {\"Y\",321854} │\n",
       "│ {\"C\",322639} ┆ {\"X\",322991} │\n",
       "│ {null,32122} ┆ {null,32386} │\n",
       "└──────────────┴──────────────┘"
      ]
     },
     "execution_count": 21,
     "metadata": {},
     "output_type": "execute_result"
    }
   ],
   "source": [
    "# ある列に出現する値の個数を数える\n",
    "data1.select(pl.col(\"group1\").value_counts())"
   ]
  },
  {
   "cell_type": "markdown",
   "metadata": {},
   "source": [
    "### 行の操作"
   ]
  },
  {
   "cell_type": "code",
   "execution_count": 12,
   "metadata": {},
   "outputs": [
    {
     "data": {
      "text/html": [
       "<div><style>\n",
       ".dataframe > thead > tr,\n",
       ".dataframe > tbody > tr {\n",
       "  text-align: right;\n",
       "  white-space: pre-wrap;\n",
       "}\n",
       "</style>\n",
       "<small>shape: (322_416, 4)</small><table border=\"1\" class=\"dataframe\"><thead><tr><th>id</th><th>group1</th><th>group2</th><th>value</th></tr><tr><td>i64</td><td>str</td><td>str</td><td>f64</td></tr></thead><tbody><tr><td>2</td><td>&quot;A&quot;</td><td>&quot;X&quot;</td><td>-0.356422</td></tr><tr><td>3</td><td>&quot;A&quot;</td><td>&quot;Y&quot;</td><td>-0.722236</td></tr><tr><td>4</td><td>&quot;A&quot;</td><td>&quot;X&quot;</td><td>0.631321</td></tr><tr><td>8</td><td>&quot;A&quot;</td><td>&quot;Y&quot;</td><td>-1.529201</td></tr><tr><td>10</td><td>&quot;A&quot;</td><td>&quot;Y&quot;</td><td>-0.191305</td></tr><tr><td>&hellip;</td><td>&hellip;</td><td>&hellip;</td><td>&hellip;</td></tr><tr><td>999981</td><td>&quot;A&quot;</td><td>&quot;X&quot;</td><td>-2.077742</td></tr><tr><td>999983</td><td>&quot;A&quot;</td><td>&quot;Y&quot;</td><td>-0.064892</td></tr><tr><td>999986</td><td>&quot;A&quot;</td><td>&quot;Y&quot;</td><td>0.551829</td></tr><tr><td>999989</td><td>&quot;A&quot;</td><td>&quot;Y&quot;</td><td>1.149937</td></tr><tr><td>999991</td><td>&quot;A&quot;</td><td>&quot;Y&quot;</td><td>0.529634</td></tr></tbody></table></div>"
      ],
      "text/plain": [
       "shape: (322_416, 4)\n",
       "┌────────┬────────┬────────┬───────────┐\n",
       "│ id     ┆ group1 ┆ group2 ┆ value     │\n",
       "│ ---    ┆ ---    ┆ ---    ┆ ---       │\n",
       "│ i64    ┆ str    ┆ str    ┆ f64       │\n",
       "╞════════╪════════╪════════╪═══════════╡\n",
       "│ 2      ┆ A      ┆ X      ┆ -0.356422 │\n",
       "│ 3      ┆ A      ┆ Y      ┆ -0.722236 │\n",
       "│ 4      ┆ A      ┆ X      ┆ 0.631321  │\n",
       "│ 8      ┆ A      ┆ Y      ┆ -1.529201 │\n",
       "│ 10     ┆ A      ┆ Y      ┆ -0.191305 │\n",
       "│ …      ┆ …      ┆ …      ┆ …         │\n",
       "│ 999981 ┆ A      ┆ X      ┆ -2.077742 │\n",
       "│ 999983 ┆ A      ┆ Y      ┆ -0.064892 │\n",
       "│ 999986 ┆ A      ┆ Y      ┆ 0.551829  │\n",
       "│ 999989 ┆ A      ┆ Y      ┆ 1.149937  │\n",
       "│ 999991 ┆ A      ┆ Y      ┆ 0.529634  │\n",
       "└────────┴────────┴────────┴───────────┘"
      ]
     },
     "execution_count": 12,
     "metadata": {},
     "output_type": "execute_result"
    }
   ],
   "source": [
    "# 行の抽出\n",
    "data1.filter(pl.col(\"group1\") == \"A\")"
   ]
  },
  {
   "cell_type": "code",
   "execution_count": 15,
   "metadata": {},
   "outputs": [
    {
     "data": {
      "text/html": [
       "<div><style>\n",
       ".dataframe > thead > tr,\n",
       ".dataframe > tbody > tr {\n",
       "  text-align: right;\n",
       "  white-space: pre-wrap;\n",
       "}\n",
       "</style>\n",
       "<small>shape: (103_866, 4)</small><table border=\"1\" class=\"dataframe\"><thead><tr><th>id</th><th>group1</th><th>group2</th><th>value</th></tr><tr><td>i64</td><td>str</td><td>str</td><td>f64</td></tr></thead><tbody><tr><td>2</td><td>&quot;A&quot;</td><td>&quot;X&quot;</td><td>-0.356422</td></tr><tr><td>4</td><td>&quot;A&quot;</td><td>&quot;X&quot;</td><td>0.631321</td></tr><tr><td>14</td><td>&quot;A&quot;</td><td>&quot;X&quot;</td><td>-1.112415</td></tr><tr><td>24</td><td>&quot;A&quot;</td><td>&quot;X&quot;</td><td>-1.574322</td></tr><tr><td>28</td><td>&quot;A&quot;</td><td>&quot;X&quot;</td><td>0.766734</td></tr><tr><td>&hellip;</td><td>&hellip;</td><td>&hellip;</td><td>&hellip;</td></tr><tr><td>999954</td><td>&quot;A&quot;</td><td>&quot;X&quot;</td><td>1.128896</td></tr><tr><td>999956</td><td>&quot;A&quot;</td><td>&quot;X&quot;</td><td>-0.249153</td></tr><tr><td>999962</td><td>&quot;A&quot;</td><td>&quot;X&quot;</td><td>-2.275963</td></tr><tr><td>999976</td><td>&quot;A&quot;</td><td>&quot;X&quot;</td><td>0.208641</td></tr><tr><td>999981</td><td>&quot;A&quot;</td><td>&quot;X&quot;</td><td>-2.077742</td></tr></tbody></table></div>"
      ],
      "text/plain": [
       "shape: (103_866, 4)\n",
       "┌────────┬────────┬────────┬───────────┐\n",
       "│ id     ┆ group1 ┆ group2 ┆ value     │\n",
       "│ ---    ┆ ---    ┆ ---    ┆ ---       │\n",
       "│ i64    ┆ str    ┆ str    ┆ f64       │\n",
       "╞════════╪════════╪════════╪═══════════╡\n",
       "│ 2      ┆ A      ┆ X      ┆ -0.356422 │\n",
       "│ 4      ┆ A      ┆ X      ┆ 0.631321  │\n",
       "│ 14     ┆ A      ┆ X      ┆ -1.112415 │\n",
       "│ 24     ┆ A      ┆ X      ┆ -1.574322 │\n",
       "│ 28     ┆ A      ┆ X      ┆ 0.766734  │\n",
       "│ …      ┆ …      ┆ …      ┆ …         │\n",
       "│ 999954 ┆ A      ┆ X      ┆ 1.128896  │\n",
       "│ 999956 ┆ A      ┆ X      ┆ -0.249153 │\n",
       "│ 999962 ┆ A      ┆ X      ┆ -2.275963 │\n",
       "│ 999976 ┆ A      ┆ X      ┆ 0.208641  │\n",
       "│ 999981 ┆ A      ┆ X      ┆ -2.077742 │\n",
       "└────────┴────────┴────────┴───────────┘"
      ]
     },
     "execution_count": 15,
     "metadata": {},
     "output_type": "execute_result"
    }
   ],
   "source": [
    "# 複数条件を使う\n",
    "data1.filter((pl.col(\"group1\") == \"A\") & (pl.col(\"group2\") == \"X\"))\n",
    "# & の場合は `,` で書くこともできる\n",
    "# data1.filter(pl.col(\"group1\") == \"A\", pl.col(\"group2\") == \"X\")\n",
    "# OR の場合 `&` ではなく， `|` を使う\n",
    "# data1.filter((pl.col(\"group1\") == \"A\") | (pl.col(\"group2\") == \"X\"))"
   ]
  },
  {
   "cell_type": "code",
   "execution_count": 16,
   "metadata": {},
   "outputs": [
    {
     "data": {
      "text/html": [
       "<div><style>\n",
       ".dataframe > thead > tr,\n",
       ".dataframe > tbody > tr {\n",
       "  text-align: right;\n",
       "  white-space: pre-wrap;\n",
       "}\n",
       "</style>\n",
       "<small>shape: (1_015, 4)</small><table border=\"1\" class=\"dataframe\"><thead><tr><th>id</th><th>group1</th><th>group2</th><th>value</th></tr><tr><td>i64</td><td>str</td><td>str</td><td>f64</td></tr></thead><tbody><tr><td>2055</td><td>null</td><td>null</td><td>0.4324</td></tr><tr><td>2494</td><td>null</td><td>null</td><td>-0.3083</td></tr><tr><td>3585</td><td>null</td><td>null</td><td>-1.197981</td></tr><tr><td>4574</td><td>null</td><td>null</td><td>-0.401393</td></tr><tr><td>4690</td><td>null</td><td>null</td><td>1.133604</td></tr><tr><td>&hellip;</td><td>&hellip;</td><td>&hellip;</td><td>&hellip;</td></tr><tr><td>995452</td><td>null</td><td>null</td><td>-1.247216</td></tr><tr><td>995544</td><td>null</td><td>null</td><td>-1.834185</td></tr><tr><td>995580</td><td>null</td><td>null</td><td>-0.401569</td></tr><tr><td>996032</td><td>null</td><td>null</td><td>-0.711723</td></tr><tr><td>999489</td><td>null</td><td>null</td><td>-0.929115</td></tr></tbody></table></div>"
      ],
      "text/plain": [
       "shape: (1_015, 4)\n",
       "┌────────┬────────┬────────┬───────────┐\n",
       "│ id     ┆ group1 ┆ group2 ┆ value     │\n",
       "│ ---    ┆ ---    ┆ ---    ┆ ---       │\n",
       "│ i64    ┆ str    ┆ str    ┆ f64       │\n",
       "╞════════╪════════╪════════╪═══════════╡\n",
       "│ 2055   ┆ null   ┆ null   ┆ 0.4324    │\n",
       "│ 2494   ┆ null   ┆ null   ┆ -0.3083   │\n",
       "│ 3585   ┆ null   ┆ null   ┆ -1.197981 │\n",
       "│ 4574   ┆ null   ┆ null   ┆ -0.401393 │\n",
       "│ 4690   ┆ null   ┆ null   ┆ 1.133604  │\n",
       "│ …      ┆ …      ┆ …      ┆ …         │\n",
       "│ 995452 ┆ null   ┆ null   ┆ -1.247216 │\n",
       "│ 995544 ┆ null   ┆ null   ┆ -1.834185 │\n",
       "│ 995580 ┆ null   ┆ null   ┆ -0.401569 │\n",
       "│ 996032 ┆ null   ┆ null   ┆ -0.711723 │\n",
       "│ 999489 ┆ null   ┆ null   ┆ -0.929115 │\n",
       "└────────┴────────┴────────┴───────────┘"
      ]
     },
     "execution_count": 16,
     "metadata": {},
     "output_type": "execute_result"
    }
   ],
   "source": [
    "# 欠損値を表示させる\n",
    "# group1, group2が共に欠損の行を抽出する\n",
    "data1.filter(pl.col(\"group1\").is_null(), pl.col(\"group2\").is_null())"
   ]
  },
  {
   "cell_type": "markdown",
   "metadata": {},
   "source": [
    "### グループ化"
   ]
  },
  {
   "cell_type": "code",
   "execution_count": 36,
   "metadata": {},
   "outputs": [
    {
     "data": {
      "text/html": [
       "<div><style>\n",
       ".dataframe > thead > tr,\n",
       ".dataframe > tbody > tr {\n",
       "  text-align: right;\n",
       "  white-space: pre-wrap;\n",
       "}\n",
       "</style>\n",
       "<small>shape: (4, 2)</small><table border=\"1\" class=\"dataframe\"><thead><tr><th>group1</th><th>value</th></tr><tr><td>str</td><td>f64</td></tr></thead><tbody><tr><td>&quot;C&quot;</td><td>-0.001734</td></tr><tr><td>null</td><td>0.005503</td></tr><tr><td>&quot;B&quot;</td><td>-0.000965</td></tr><tr><td>&quot;A&quot;</td><td>0.000446</td></tr></tbody></table></div>"
      ],
      "text/plain": [
       "shape: (4, 2)\n",
       "┌────────┬───────────┐\n",
       "│ group1 ┆ value     │\n",
       "│ ---    ┆ ---       │\n",
       "│ str    ┆ f64       │\n",
       "╞════════╪═══════════╡\n",
       "│ C      ┆ -0.001734 │\n",
       "│ null   ┆ 0.005503  │\n",
       "│ B      ┆ -0.000965 │\n",
       "│ A      ┆ 0.000446  │\n",
       "└────────┴───────────┘"
      ]
     },
     "execution_count": 36,
     "metadata": {},
     "output_type": "execute_result"
    }
   ],
   "source": [
    "data1.group_by(\"group1\").agg(pl.mean(\"value\"))"
   ]
  },
  {
   "cell_type": "markdown",
   "metadata": {},
   "source": [
    "## 前処理"
   ]
  },
  {
   "cell_type": "markdown",
   "metadata": {},
   "source": [
    "* データフレームの結合\n",
    "* 欠損値処理\n",
    "* 新しい列の作成\n",
    "* 縦長データ <-> 横長データの変換"
   ]
  },
  {
   "cell_type": "markdown",
   "metadata": {},
   "source": [
    "### データフレームの結合\n",
    "* 縦に結合する\n",
    "    * `vstack()`\n",
    "* 横に結合する\n",
    "    * `join()`"
   ]
  },
  {
   "cell_type": "code",
   "execution_count": 50,
   "metadata": {},
   "outputs": [
    {
     "data": {
      "text/plain": [
       "(1500000, 4)"
      ]
     },
     "execution_count": 50,
     "metadata": {},
     "output_type": "execute_result"
    }
   ],
   "source": [
    "# 縦に結合\n",
    "# data1の下にdata2を結合し，新しいデータフレームを作成する\n",
    "data12 = data1.vstack(data2)\n",
    "data12.shape"
   ]
  },
  {
   "cell_type": "code",
   "execution_count": 51,
   "metadata": {},
   "outputs": [
    {
     "data": {
      "text/html": [
       "<div><style>\n",
       ".dataframe > thead > tr,\n",
       ".dataframe > tbody > tr {\n",
       "  text-align: right;\n",
       "  white-space: pre-wrap;\n",
       "}\n",
       "</style>\n",
       "<small>shape: (5, 4)</small><table border=\"1\" class=\"dataframe\"><thead><tr><th>id</th><th>group1</th><th>group2</th><th>value</th></tr><tr><td>i64</td><td>str</td><td>str</td><td>f64</td></tr></thead><tbody><tr><td>1</td><td>&quot;B&quot;</td><td>&quot;Y&quot;</td><td>0.177553</td></tr><tr><td>2</td><td>&quot;A&quot;</td><td>&quot;X&quot;</td><td>-0.356422</td></tr><tr><td>3</td><td>&quot;A&quot;</td><td>&quot;Y&quot;</td><td>-0.722236</td></tr><tr><td>4</td><td>&quot;A&quot;</td><td>&quot;X&quot;</td><td>0.631321</td></tr><tr><td>5</td><td>&quot;C&quot;</td><td>&quot;X&quot;</td><td>-0.667093</td></tr></tbody></table></div>"
      ],
      "text/plain": [
       "shape: (5, 4)\n",
       "┌─────┬────────┬────────┬───────────┐\n",
       "│ id  ┆ group1 ┆ group2 ┆ value     │\n",
       "│ --- ┆ ---    ┆ ---    ┆ ---       │\n",
       "│ i64 ┆ str    ┆ str    ┆ f64       │\n",
       "╞═════╪════════╪════════╪═══════════╡\n",
       "│ 1   ┆ B      ┆ Y      ┆ 0.177553  │\n",
       "│ 2   ┆ A      ┆ X      ┆ -0.356422 │\n",
       "│ 3   ┆ A      ┆ Y      ┆ -0.722236 │\n",
       "│ 4   ┆ A      ┆ X      ┆ 0.631321  │\n",
       "│ 5   ┆ C      ┆ X      ┆ -0.667093 │\n",
       "└─────┴────────┴────────┴───────────┘"
      ]
     },
     "execution_count": 51,
     "metadata": {},
     "output_type": "execute_result"
    }
   ],
   "source": [
    "data12.head()"
   ]
  },
  {
   "cell_type": "code",
   "execution_count": 49,
   "metadata": {},
   "outputs": [
    {
     "data": {
      "text/html": [
       "<div><style>\n",
       ".dataframe > thead > tr,\n",
       ".dataframe > tbody > tr {\n",
       "  text-align: right;\n",
       "  white-space: pre-wrap;\n",
       "}\n",
       "</style>\n",
       "<small>shape: (9, 3)</small><table border=\"1\" class=\"dataframe\"><thead><tr><th>group1</th><th>group2</th><th>weight</th></tr><tr><td>str</td><td>str</td><td>i64</td></tr></thead><tbody><tr><td>&quot;A&quot;</td><td>&quot;X&quot;</td><td>5</td></tr><tr><td>&quot;A&quot;</td><td>&quot;Y&quot;</td><td>6</td></tr><tr><td>&quot;A&quot;</td><td>&quot;Z&quot;</td><td>1</td></tr><tr><td>&quot;B&quot;</td><td>&quot;X&quot;</td><td>4</td></tr><tr><td>&quot;B&quot;</td><td>&quot;Y&quot;</td><td>9</td></tr><tr><td>&quot;B&quot;</td><td>&quot;Z&quot;</td><td>8</td></tr><tr><td>&quot;C&quot;</td><td>&quot;X&quot;</td><td>5</td></tr><tr><td>&quot;C&quot;</td><td>&quot;Y&quot;</td><td>4</td></tr><tr><td>&quot;C&quot;</td><td>&quot;Z&quot;</td><td>4</td></tr></tbody></table></div>"
      ],
      "text/plain": [
       "shape: (9, 3)\n",
       "┌────────┬────────┬────────┐\n",
       "│ group1 ┆ group2 ┆ weight │\n",
       "│ ---    ┆ ---    ┆ ---    │\n",
       "│ str    ┆ str    ┆ i64    │\n",
       "╞════════╪════════╪════════╡\n",
       "│ A      ┆ X      ┆ 5      │\n",
       "│ A      ┆ Y      ┆ 6      │\n",
       "│ A      ┆ Z      ┆ 1      │\n",
       "│ B      ┆ X      ┆ 4      │\n",
       "│ B      ┆ Y      ┆ 9      │\n",
       "│ B      ┆ Z      ┆ 8      │\n",
       "│ C      ┆ X      ┆ 5      │\n",
       "│ C      ┆ Y      ┆ 4      │\n",
       "│ C      ┆ Z      ┆ 4      │\n",
       "└────────┴────────┴────────┘"
      ]
     },
     "execution_count": 49,
     "metadata": {},
     "output_type": "execute_result"
    }
   ],
   "source": [
    "weight_data.head(n=10)"
   ]
  },
  {
   "cell_type": "code",
   "execution_count": 52,
   "metadata": {},
   "outputs": [],
   "source": [
    "# 横に結合する\n",
    "# キーはgroup1列，group2列同士で行う\n",
    "all_data = data12.join(other=weight_data,\n",
    "                       left_on=[\"group1\", \"group2\"],\n",
    "                       right_on=[\"group1\", \"group2\"],\n",
    "                       how=\"left\")"
   ]
  },
  {
   "cell_type": "code",
   "execution_count": 59,
   "metadata": {},
   "outputs": [
    {
     "data": {
      "text/plain": [
       "(1500000, 5)"
      ]
     },
     "execution_count": 59,
     "metadata": {},
     "output_type": "execute_result"
    }
   ],
   "source": [
    "all_data.shape"
   ]
  },
  {
   "cell_type": "code",
   "execution_count": 57,
   "metadata": {},
   "outputs": [
    {
     "data": {
      "text/html": [
       "<div><style>\n",
       ".dataframe > thead > tr,\n",
       ".dataframe > tbody > tr {\n",
       "  text-align: right;\n",
       "  white-space: pre-wrap;\n",
       "}\n",
       "</style>\n",
       "<small>shape: (5, 5)</small><table border=\"1\" class=\"dataframe\"><thead><tr><th>id</th><th>group1</th><th>group2</th><th>value</th><th>weight</th></tr><tr><td>i64</td><td>str</td><td>str</td><td>f64</td><td>i64</td></tr></thead><tbody><tr><td>893922</td><td>&quot;B&quot;</td><td>&quot;X&quot;</td><td>1.519066</td><td>4</td></tr><tr><td>1295541</td><td>&quot;A&quot;</td><td>&quot;X&quot;</td><td>-0.86245</td><td>5</td></tr><tr><td>1373044</td><td>&quot;B&quot;</td><td>&quot;X&quot;</td><td>-0.353661</td><td>4</td></tr><tr><td>487078</td><td>&quot;B&quot;</td><td>&quot;Z&quot;</td><td>-0.586006</td><td>8</td></tr><tr><td>1073530</td><td>&quot;A&quot;</td><td>&quot;X&quot;</td><td>0.917702</td><td>5</td></tr></tbody></table></div>"
      ],
      "text/plain": [
       "shape: (5, 5)\n",
       "┌─────────┬────────┬────────┬───────────┬────────┐\n",
       "│ id      ┆ group1 ┆ group2 ┆ value     ┆ weight │\n",
       "│ ---     ┆ ---    ┆ ---    ┆ ---       ┆ ---    │\n",
       "│ i64     ┆ str    ┆ str    ┆ f64       ┆ i64    │\n",
       "╞═════════╪════════╪════════╪═══════════╪════════╡\n",
       "│ 893922  ┆ B      ┆ X      ┆ 1.519066  ┆ 4      │\n",
       "│ 1295541 ┆ A      ┆ X      ┆ -0.86245  ┆ 5      │\n",
       "│ 1373044 ┆ B      ┆ X      ┆ -0.353661 ┆ 4      │\n",
       "│ 487078  ┆ B      ┆ Z      ┆ -0.586006 ┆ 8      │\n",
       "│ 1073530 ┆ A      ┆ X      ┆ 0.917702  ┆ 5      │\n",
       "└─────────┴────────┴────────┴───────────┴────────┘"
      ]
     },
     "execution_count": 57,
     "metadata": {},
     "output_type": "execute_result"
    }
   ],
   "source": [
    "# データを表示\n",
    "all_data.sample(n=5)"
   ]
  },
  {
   "cell_type": "code",
   "execution_count": 60,
   "metadata": {},
   "outputs": [
    {
     "data": {
      "text/html": [
       "<div><style>\n",
       ".dataframe > thead > tr,\n",
       ".dataframe > tbody > tr {\n",
       "  text-align: right;\n",
       "  white-space: pre-wrap;\n",
       "}\n",
       "</style>\n",
       "<small>shape: (32_122, 5)</small><table border=\"1\" class=\"dataframe\"><thead><tr><th>id</th><th>group1</th><th>group2</th><th>value</th><th>weight</th></tr><tr><td>i64</td><td>str</td><td>str</td><td>f64</td><td>i64</td></tr></thead><tbody><tr><td>34</td><td>null</td><td>&quot;Z&quot;</td><td>0.232565</td><td>null</td></tr><tr><td>61</td><td>null</td><td>&quot;X&quot;</td><td>-0.725587</td><td>null</td></tr><tr><td>87</td><td>null</td><td>&quot;X&quot;</td><td>-1.782229</td><td>null</td></tr><tr><td>97</td><td>null</td><td>&quot;Z&quot;</td><td>1.223954</td><td>null</td></tr><tr><td>99</td><td>null</td><td>&quot;Z&quot;</td><td>1.494806</td><td>null</td></tr><tr><td>&hellip;</td><td>&hellip;</td><td>&hellip;</td><td>&hellip;</td><td>&hellip;</td></tr><tr><td>999867</td><td>null</td><td>&quot;Z&quot;</td><td>0.530382</td><td>null</td></tr><tr><td>999874</td><td>null</td><td>&quot;X&quot;</td><td>-0.206841</td><td>null</td></tr><tr><td>999911</td><td>null</td><td>&quot;X&quot;</td><td>-0.581071</td><td>null</td></tr><tr><td>999952</td><td>null</td><td>&quot;Z&quot;</td><td>-1.478041</td><td>null</td></tr><tr><td>999953</td><td>null</td><td>&quot;X&quot;</td><td>-0.335045</td><td>null</td></tr></tbody></table></div>"
      ],
      "text/plain": [
       "shape: (32_122, 5)\n",
       "┌────────┬────────┬────────┬───────────┬────────┐\n",
       "│ id     ┆ group1 ┆ group2 ┆ value     ┆ weight │\n",
       "│ ---    ┆ ---    ┆ ---    ┆ ---       ┆ ---    │\n",
       "│ i64    ┆ str    ┆ str    ┆ f64       ┆ i64    │\n",
       "╞════════╪════════╪════════╪═══════════╪════════╡\n",
       "│ 34     ┆ null   ┆ Z      ┆ 0.232565  ┆ null   │\n",
       "│ 61     ┆ null   ┆ X      ┆ -0.725587 ┆ null   │\n",
       "│ 87     ┆ null   ┆ X      ┆ -1.782229 ┆ null   │\n",
       "│ 97     ┆ null   ┆ Z      ┆ 1.223954  ┆ null   │\n",
       "│ 99     ┆ null   ┆ Z      ┆ 1.494806  ┆ null   │\n",
       "│ …      ┆ …      ┆ …      ┆ …         ┆ …      │\n",
       "│ 999867 ┆ null   ┆ Z      ┆ 0.530382  ┆ null   │\n",
       "│ 999874 ┆ null   ┆ X      ┆ -0.206841 ┆ null   │\n",
       "│ 999911 ┆ null   ┆ X      ┆ -0.581071 ┆ null   │\n",
       "│ 999952 ┆ null   ┆ Z      ┆ -1.478041 ┆ null   │\n",
       "│ 999953 ┆ null   ┆ X      ┆ -0.335045 ┆ null   │\n",
       "└────────┴────────┴────────┴───────────┴────────┘"
      ]
     },
     "execution_count": 60,
     "metadata": {},
     "output_type": "execute_result"
    }
   ],
   "source": [
    "# 欠損値を持つ行を表示．\n",
    "# 結合方法を左結合にしたため，左で欠損を持つ行(厳密には，右側のデータにない結合キー)も残っている\n",
    "all_data.filter(pl.col(\"group1\").is_null())"
   ]
  },
  {
   "cell_type": "markdown",
   "metadata": {},
   "source": [
    "### 欠損値処理\n",
    "* 欠損値の除去\n",
    "    * `drop_nulls()`\n",
    "* 欠損値の補完\n",
    "    * `fill_null()`"
   ]
  },
  {
   "cell_type": "markdown",
   "metadata": {},
   "source": [
    "ここでは，分かりやすさのために，少数データで確認する"
   ]
  },
  {
   "cell_type": "code",
   "execution_count": 81,
   "metadata": {},
   "outputs": [
    {
     "data": {
      "text/html": [
       "<div><style>\n",
       ".dataframe > thead > tr,\n",
       ".dataframe > tbody > tr {\n",
       "  text-align: right;\n",
       "  white-space: pre-wrap;\n",
       "}\n",
       "</style>\n",
       "<small>shape: (4, 3)</small><table border=\"1\" class=\"dataframe\"><thead><tr><th>a</th><th>b</th><th>c</th></tr><tr><td>i64</td><td>i64</td><td>i64</td></tr></thead><tbody><tr><td>null</td><td>1</td><td>1</td></tr><tr><td>null</td><td>2</td><td>null</td></tr><tr><td>null</td><td>null</td><td>null</td></tr><tr><td>3</td><td>1</td><td>1</td></tr></tbody></table></div>"
      ],
      "text/plain": [
       "shape: (4, 3)\n",
       "┌──────┬──────┬──────┐\n",
       "│ a    ┆ b    ┆ c    │\n",
       "│ ---  ┆ ---  ┆ ---  │\n",
       "│ i64  ┆ i64  ┆ i64  │\n",
       "╞══════╪══════╪══════╡\n",
       "│ null ┆ 1    ┆ 1    │\n",
       "│ null ┆ 2    ┆ null │\n",
       "│ null ┆ null ┆ null │\n",
       "│ 3    ┆ 1    ┆ 1    │\n",
       "└──────┴──────┴──────┘"
      ]
     },
     "execution_count": 81,
     "metadata": {},
     "output_type": "execute_result"
    }
   ],
   "source": [
    "sample_data = pl.DataFrame(\n",
    "    {\n",
    "        \"a\": [None, None, None, 3],\n",
    "        \"b\": [1, 2, None, 1],\n",
    "        \"c\": [1, None, None, 1],\n",
    "    }\n",
    ")\n",
    "sample_data"
   ]
  },
  {
   "cell_type": "code",
   "execution_count": 82,
   "metadata": {},
   "outputs": [
    {
     "data": {
      "text/html": [
       "<div><style>\n",
       ".dataframe > thead > tr,\n",
       ".dataframe > tbody > tr {\n",
       "  text-align: right;\n",
       "  white-space: pre-wrap;\n",
       "}\n",
       "</style>\n",
       "<small>shape: (3, 3)</small><table border=\"1\" class=\"dataframe\"><thead><tr><th>a</th><th>b</th><th>c</th></tr><tr><td>i64</td><td>i64</td><td>i64</td></tr></thead><tbody><tr><td>null</td><td>1</td><td>1</td></tr><tr><td>null</td><td>2</td><td>null</td></tr><tr><td>3</td><td>1</td><td>1</td></tr></tbody></table></div>"
      ],
      "text/plain": [
       "shape: (3, 3)\n",
       "┌──────┬─────┬──────┐\n",
       "│ a    ┆ b   ┆ c    │\n",
       "│ ---  ┆ --- ┆ ---  │\n",
       "│ i64  ┆ i64 ┆ i64  │\n",
       "╞══════╪═════╪══════╡\n",
       "│ null ┆ 1   ┆ 1    │\n",
       "│ null ┆ 2   ┆ null │\n",
       "│ 3    ┆ 1   ┆ 1    │\n",
       "└──────┴─────┴──────┘"
      ]
     },
     "execution_count": 82,
     "metadata": {},
     "output_type": "execute_result"
    }
   ],
   "source": [
    "# b列が欠損である行を\n",
    "sample_data.drop_nulls(\"b\")"
   ]
  },
  {
   "cell_type": "code",
   "execution_count": 83,
   "metadata": {},
   "outputs": [
    {
     "data": {
      "text/html": [
       "<div><style>\n",
       ".dataframe > thead > tr,\n",
       ".dataframe > tbody > tr {\n",
       "  text-align: right;\n",
       "  white-space: pre-wrap;\n",
       "}\n",
       "</style>\n",
       "<small>shape: (1, 3)</small><table border=\"1\" class=\"dataframe\"><thead><tr><th>a</th><th>b</th><th>c</th></tr><tr><td>i64</td><td>i64</td><td>i64</td></tr></thead><tbody><tr><td>3</td><td>1</td><td>1</td></tr></tbody></table></div>"
      ],
      "text/plain": [
       "shape: (1, 3)\n",
       "┌─────┬─────┬─────┐\n",
       "│ a   ┆ b   ┆ c   │\n",
       "│ --- ┆ --- ┆ --- │\n",
       "│ i64 ┆ i64 ┆ i64 │\n",
       "╞═════╪═════╪═════╡\n",
       "│ 3   ┆ 1   ┆ 1   │\n",
       "└─────┴─────┴─────┘"
      ]
     },
     "execution_count": 83,
     "metadata": {},
     "output_type": "execute_result"
    }
   ],
   "source": [
    "# 1列でも欠損値を持つ行を削除する\n",
    "sample_data.drop_nulls()"
   ]
  },
  {
   "cell_type": "code",
   "execution_count": 84,
   "metadata": {},
   "outputs": [
    {
     "data": {
      "text/html": [
       "<div><style>\n",
       ".dataframe > thead > tr,\n",
       ".dataframe > tbody > tr {\n",
       "  text-align: right;\n",
       "  white-space: pre-wrap;\n",
       "}\n",
       "</style>\n",
       "<small>shape: (3, 3)</small><table border=\"1\" class=\"dataframe\"><thead><tr><th>a</th><th>b</th><th>c</th></tr><tr><td>i64</td><td>i64</td><td>i64</td></tr></thead><tbody><tr><td>null</td><td>1</td><td>1</td></tr><tr><td>null</td><td>2</td><td>null</td></tr><tr><td>3</td><td>1</td><td>1</td></tr></tbody></table></div>"
      ],
      "text/plain": [
       "shape: (3, 3)\n",
       "┌──────┬─────┬──────┐\n",
       "│ a    ┆ b   ┆ c    │\n",
       "│ ---  ┆ --- ┆ ---  │\n",
       "│ i64  ┆ i64 ┆ i64  │\n",
       "╞══════╪═════╪══════╡\n",
       "│ null ┆ 1   ┆ 1    │\n",
       "│ null ┆ 2   ┆ null │\n",
       "│ 3    ┆ 1   ┆ 1    │\n",
       "└──────┴─────┴──────┘"
      ]
     },
     "execution_count": 84,
     "metadata": {},
     "output_type": "execute_result"
    }
   ],
   "source": [
    "# すべての列の値が空白である行を削除する\n",
    "sample_data.filter(~pl.all_horizontal(pl.all().is_null()))"
   ]
  },
  {
   "cell_type": "code",
   "execution_count": 85,
   "metadata": {},
   "outputs": [
    {
     "name": "stdout",
     "output_type": "stream",
     "text": [
      "shape: (3, 3)\n",
      "┌──────┬──────┬──────┐\n",
      "│ a    ┆ b    ┆ c    │\n",
      "│ ---  ┆ ---  ┆ ---  │\n",
      "│ null ┆ i64  ┆ i64  │\n",
      "╞══════╪══════╪══════╡\n",
      "│ null ┆ 1    ┆ 1    │\n",
      "│ null ┆ 2    ┆ null │\n",
      "│ null ┆ null ┆ null │\n",
      "└──────┴──────┴──────┘\n"
     ]
    },
    {
     "data": {
      "text/html": [
       "<div><style>\n",
       ".dataframe > thead > tr,\n",
       ".dataframe > tbody > tr {\n",
       "  text-align: right;\n",
       "  white-space: pre-wrap;\n",
       "}\n",
       "</style>\n",
       "<small>shape: (3, 2)</small><table border=\"1\" class=\"dataframe\"><thead><tr><th>b</th><th>c</th></tr><tr><td>i64</td><td>i64</td></tr></thead><tbody><tr><td>1</td><td>1</td></tr><tr><td>2</td><td>null</td></tr><tr><td>null</td><td>null</td></tr></tbody></table></div>"
      ],
      "text/plain": [
       "shape: (3, 2)\n",
       "┌──────┬──────┐\n",
       "│ b    ┆ c    │\n",
       "│ ---  ┆ ---  │\n",
       "│ i64  ┆ i64  │\n",
       "╞══════╪══════╡\n",
       "│ 1    ┆ 1    │\n",
       "│ 2    ┆ null │\n",
       "│ null ┆ null │\n",
       "└──────┴──────┘"
      ]
     },
     "execution_count": 85,
     "metadata": {},
     "output_type": "execute_result"
    }
   ],
   "source": [
    "# 全ての行が欠損である列を削除する\n",
    "sample_data2 = pl.DataFrame(\n",
    "    {\n",
    "        \"a\": [None, None, None],\n",
    "        \"b\": [1, 2, None],\n",
    "        \"c\": [1, None, None],\n",
    "    }\n",
    ")\n",
    "print(sample_data2)\n",
    "sample_data2[[s.name for s in sample_data2 if not (s.null_count() == sample_data2.height)]]"
   ]
  },
  {
   "cell_type": "code",
   "execution_count": 86,
   "metadata": {},
   "outputs": [
    {
     "data": {
      "text/html": [
       "<div><style>\n",
       ".dataframe > thead > tr,\n",
       ".dataframe > tbody > tr {\n",
       "  text-align: right;\n",
       "  white-space: pre-wrap;\n",
       "}\n",
       "</style>\n",
       "<small>shape: (4, 3)</small><table border=\"1\" class=\"dataframe\"><thead><tr><th>a</th><th>b</th><th>c</th></tr><tr><td>i64</td><td>i64</td><td>i64</td></tr></thead><tbody><tr><td>-99</td><td>1</td><td>1</td></tr><tr><td>-99</td><td>2</td><td>-99</td></tr><tr><td>-99</td><td>-99</td><td>-99</td></tr><tr><td>3</td><td>1</td><td>1</td></tr></tbody></table></div>"
      ],
      "text/plain": [
       "shape: (4, 3)\n",
       "┌─────┬─────┬─────┐\n",
       "│ a   ┆ b   ┆ c   │\n",
       "│ --- ┆ --- ┆ --- │\n",
       "│ i64 ┆ i64 ┆ i64 │\n",
       "╞═════╪═════╪═════╡\n",
       "│ -99 ┆ 1   ┆ 1   │\n",
       "│ -99 ┆ 2   ┆ -99 │\n",
       "│ -99 ┆ -99 ┆ -99 │\n",
       "│ 3   ┆ 1   ┆ 1   │\n",
       "└─────┴─────┴─────┘"
      ]
     },
     "execution_count": 86,
     "metadata": {},
     "output_type": "execute_result"
    }
   ],
   "source": [
    "# 欠損値の補完\n",
    "sample_data.fill_null(-99)"
   ]
  },
  {
   "cell_type": "code",
   "execution_count": 89,
   "metadata": {},
   "outputs": [
    {
     "data": {
      "text/html": [
       "<div><style>\n",
       ".dataframe > thead > tr,\n",
       ".dataframe > tbody > tr {\n",
       "  text-align: right;\n",
       "  white-space: pre-wrap;\n",
       "}\n",
       "</style>\n",
       "<small>shape: (4, 3)</small><table border=\"1\" class=\"dataframe\"><thead><tr><th>a</th><th>b</th><th>c</th></tr><tr><td>i64</td><td>i64</td><td>i64</td></tr></thead><tbody><tr><td>3</td><td>1</td><td>1</td></tr><tr><td>3</td><td>2</td><td>1</td></tr><tr><td>3</td><td>2</td><td>1</td></tr><tr><td>3</td><td>1</td><td>1</td></tr></tbody></table></div>"
      ],
      "text/plain": [
       "shape: (4, 3)\n",
       "┌─────┬─────┬─────┐\n",
       "│ a   ┆ b   ┆ c   │\n",
       "│ --- ┆ --- ┆ --- │\n",
       "│ i64 ┆ i64 ┆ i64 │\n",
       "╞═════╪═════╪═════╡\n",
       "│ 3   ┆ 1   ┆ 1   │\n",
       "│ 3   ┆ 2   ┆ 1   │\n",
       "│ 3   ┆ 2   ┆ 1   │\n",
       "│ 3   ┆ 1   ┆ 1   │\n",
       "└─────┴─────┴─────┘"
      ]
     },
     "execution_count": 89,
     "metadata": {},
     "output_type": "execute_result"
    }
   ],
   "source": [
    "sample_data.fill_null(strategy=\"max\")"
   ]
  },
  {
   "cell_type": "code",
   "execution_count": 98,
   "metadata": {},
   "outputs": [],
   "source": [
    "# 今後の処理で欠損値があると良くないので，最初のデータの欠損値を削除する\n",
    "all_data = all_data.drop_nulls()"
   ]
  },
  {
   "cell_type": "markdown",
   "metadata": {},
   "source": [
    "### 新しい列の作成\n",
    "* 列の作成\n",
    "    * `with_columns()`\n",
    "    * かなり自由度が高く，四則演算や文字列の扱い，条件分岐もデフォルトの関数で使用可能．\n",
    "    * 定義済みの関数なためパフォーマンスが非常に高い\n",
    "    * もちろん，自作関数も使用できるが，パフォーマンスが落ちるため，可能な限り適宜済み関数を用いる\n",
    "    * 自作関数を用いる場合，`map_elements(my_func, return_dtype=pl.xxx)`を用い"
   ]
  },
  {
   "cell_type": "code",
   "execution_count": 99,
   "metadata": {},
   "outputs": [
    {
     "data": {
      "text/html": [
       "<div><style>\n",
       ".dataframe > thead > tr,\n",
       ".dataframe > tbody > tr {\n",
       "  text-align: right;\n",
       "  white-space: pre-wrap;\n",
       "}\n",
       "</style>\n",
       "<small>shape: (1_436_507, 11)</small><table border=\"1\" class=\"dataframe\"><thead><tr><th>id</th><th>group1</th><th>group2</th><th>value</th><th>weight</th><th>value_x2</th><th>group1_2</th><th>value_x_weight</th><th>foo</th><th>group1_max</th><th>value_diff_max_group1</th></tr><tr><td>i64</td><td>str</td><td>str</td><td>f64</td><td>i64</td><td>f64</td><td>str</td><td>f64</td><td>f64</td><td>f64</td><td>f64</td></tr></thead><tbody><tr><td>1</td><td>&quot;B&quot;</td><td>&quot;Y&quot;</td><td>0.177553</td><td>9</td><td>0.355106</td><td>&quot;B-Y&quot;</td><td>1.597975</td><td>17.755279</td><td>4.710577</td><td>-4.533024</td></tr><tr><td>2</td><td>&quot;A&quot;</td><td>&quot;X&quot;</td><td>-0.356422</td><td>5</td><td>-0.712843</td><td>&quot;A-X&quot;</td><td>-1.782109</td><td>-0.356422</td><td>4.487273</td><td>-4.843695</td></tr><tr><td>3</td><td>&quot;A&quot;</td><td>&quot;Y&quot;</td><td>-0.722236</td><td>6</td><td>-1.444472</td><td>&quot;A-Y&quot;</td><td>-4.333415</td><td>-0.722236</td><td>4.487273</td><td>-5.209509</td></tr><tr><td>4</td><td>&quot;A&quot;</td><td>&quot;X&quot;</td><td>0.631321</td><td>5</td><td>1.262642</td><td>&quot;A-X&quot;</td><td>3.156605</td><td>0.631321</td><td>4.487273</td><td>-3.855952</td></tr><tr><td>5</td><td>&quot;C&quot;</td><td>&quot;X&quot;</td><td>-0.667093</td><td>5</td><td>-1.334186</td><td>&quot;C-X&quot;</td><td>-3.335465</td><td>0.0</td><td>4.478096</td><td>-5.145189</td></tr><tr><td>&hellip;</td><td>&hellip;</td><td>&hellip;</td><td>&hellip;</td><td>&hellip;</td><td>&hellip;</td><td>&hellip;</td><td>&hellip;</td><td>&hellip;</td><td>&hellip;</td><td>&hellip;</td></tr><tr><td>1499996</td><td>&quot;A&quot;</td><td>&quot;X&quot;</td><td>0.166501</td><td>5</td><td>0.333003</td><td>&quot;A-X&quot;</td><td>0.832507</td><td>0.166501</td><td>4.487273</td><td>-4.320771</td></tr><tr><td>1499997</td><td>&quot;B&quot;</td><td>&quot;Z&quot;</td><td>-1.279135</td><td>8</td><td>-2.558271</td><td>&quot;B-Z&quot;</td><td>-10.233083</td><td>-127.913539</td><td>4.710577</td><td>-5.989712</td></tr><tr><td>1499998</td><td>&quot;A&quot;</td><td>&quot;Y&quot;</td><td>-0.966532</td><td>6</td><td>-1.933065</td><td>&quot;A-Y&quot;</td><td>-5.799194</td><td>-0.966532</td><td>4.487273</td><td>-5.453805</td></tr><tr><td>1499999</td><td>&quot;C&quot;</td><td>&quot;X&quot;</td><td>0.837054</td><td>5</td><td>1.674108</td><td>&quot;C-X&quot;</td><td>4.185271</td><td>0.0</td><td>4.478096</td><td>-3.641042</td></tr><tr><td>1500000</td><td>&quot;C&quot;</td><td>&quot;Z&quot;</td><td>-0.504551</td><td>4</td><td>-1.009101</td><td>&quot;C-Z&quot;</td><td>-2.018203</td><td>0.0</td><td>4.478096</td><td>-4.982647</td></tr></tbody></table></div>"
      ],
      "text/plain": [
       "shape: (1_436_507, 11)\n",
       "┌─────────┬────────┬────────┬───────────┬───┬─────────────┬─────────────┬────────────┬─────────────┐\n",
       "│ id      ┆ group1 ┆ group2 ┆ value     ┆ … ┆ value_x_wei ┆ foo         ┆ group1_max ┆ value_diff_ │\n",
       "│ ---     ┆ ---    ┆ ---    ┆ ---       ┆   ┆ ght         ┆ ---         ┆ ---        ┆ max_group1  │\n",
       "│ i64     ┆ str    ┆ str    ┆ f64       ┆   ┆ ---         ┆ f64         ┆ f64        ┆ ---         │\n",
       "│         ┆        ┆        ┆           ┆   ┆ f64         ┆             ┆            ┆ f64         │\n",
       "╞═════════╪════════╪════════╪═══════════╪═══╪═════════════╪═════════════╪════════════╪═════════════╡\n",
       "│ 1       ┆ B      ┆ Y      ┆ 0.177553  ┆ … ┆ 1.597975    ┆ 17.755279   ┆ 4.710577   ┆ -4.533024   │\n",
       "│ 2       ┆ A      ┆ X      ┆ -0.356422 ┆ … ┆ -1.782109   ┆ -0.356422   ┆ 4.487273   ┆ -4.843695   │\n",
       "│ 3       ┆ A      ┆ Y      ┆ -0.722236 ┆ … ┆ -4.333415   ┆ -0.722236   ┆ 4.487273   ┆ -5.209509   │\n",
       "│ 4       ┆ A      ┆ X      ┆ 0.631321  ┆ … ┆ 3.156605    ┆ 0.631321    ┆ 4.487273   ┆ -3.855952   │\n",
       "│ 5       ┆ C      ┆ X      ┆ -0.667093 ┆ … ┆ -3.335465   ┆ 0.0         ┆ 4.478096   ┆ -5.145189   │\n",
       "│ …       ┆ …      ┆ …      ┆ …         ┆ … ┆ …           ┆ …           ┆ …          ┆ …           │\n",
       "│ 1499996 ┆ A      ┆ X      ┆ 0.166501  ┆ … ┆ 0.832507    ┆ 0.166501    ┆ 4.487273   ┆ -4.320771   │\n",
       "│ 1499997 ┆ B      ┆ Z      ┆ -1.279135 ┆ … ┆ -10.233083  ┆ -127.913539 ┆ 4.710577   ┆ -5.989712   │\n",
       "│ 1499998 ┆ A      ┆ Y      ┆ -0.966532 ┆ … ┆ -5.799194   ┆ -0.966532   ┆ 4.487273   ┆ -5.453805   │\n",
       "│ 1499999 ┆ C      ┆ X      ┆ 0.837054  ┆ … ┆ 4.185271    ┆ 0.0         ┆ 4.478096   ┆ -3.641042   │\n",
       "│ 1500000 ┆ C      ┆ Z      ┆ -0.504551 ┆ … ┆ -2.018203   ┆ 0.0         ┆ 4.478096   ┆ -4.982647   │\n",
       "└─────────┴────────┴────────┴───────────┴───┴─────────────┴─────────────┴────────────┴─────────────┘"
      ]
     },
     "execution_count": 99,
     "metadata": {},
     "output_type": "execute_result"
    }
   ],
   "source": [
    "all_data.with_columns(\n",
    "    # 四則演算や文字列の扱い\n",
    "    (pl.col(\"value\")*2).alias(\"value_x2\"),\n",
    "    (pl.col(\"group1\") + \"-\" + pl.col(\"group2\")).alias(\"group1_2\"),\n",
    "    (pl.col(\"value\") * pl.col(\"weight\")).alias(\"value_x_weight\"),\n",
    ").with_columns(\n",
    "    # 条件分岐\n",
    "    pl.when(pl.col(\"group1\") == \"A\")\n",
    "    .then(pl.col(\"value\"))\n",
    "    .when(pl.col(\"group1\") == \"B\")\n",
    "    .then(pl.col(\"value\") * 100)\n",
    "    .otherwise(0)\n",
    "    .alias(\"foo\")\n",
    ").with_columns(\n",
    "    # グループごとに統計量を求め，その値を各行に返すことも可能\n",
    "    pl.col(\"value\").max().over(\"group1\").alias(\"group1_max\")\n",
    ").with_columns(\n",
    "    (pl.col(\"value\") - pl.col(\"group1_max\")).alias(\"value_diff_max_group1\")\n",
    ")"
   ]
  },
  {
   "cell_type": "code",
   "execution_count": 100,
   "metadata": {},
   "outputs": [],
   "source": [
    "# 自作関数を用いる場合\n",
    "def my_func(s: str):\n",
    "    if s == \"X\":\n",
    "        return \"XXX\"\n",
    "    elif s == \"Y\":\n",
    "        return \"YY\"\n",
    "    elif s == \"Z\":\n",
    "        return \"ZZZZ\"\n",
    "    else:\n",
    "        \"bar\""
   ]
  },
  {
   "cell_type": "code",
   "execution_count": 101,
   "metadata": {},
   "outputs": [
    {
     "data": {
      "text/html": [
       "<div><style>\n",
       ".dataframe > thead > tr,\n",
       ".dataframe > tbody > tr {\n",
       "  text-align: right;\n",
       "  white-space: pre-wrap;\n",
       "}\n",
       "</style>\n",
       "<small>shape: (1_436_507, 5)</small><table border=\"1\" class=\"dataframe\"><thead><tr><th>id</th><th>group1</th><th>group2</th><th>value</th><th>weight</th></tr><tr><td>i64</td><td>str</td><td>str</td><td>f64</td><td>i64</td></tr></thead><tbody><tr><td>1</td><td>&quot;B&quot;</td><td>&quot;YY&quot;</td><td>0.177553</td><td>9</td></tr><tr><td>2</td><td>&quot;A&quot;</td><td>&quot;XXX&quot;</td><td>-0.356422</td><td>5</td></tr><tr><td>3</td><td>&quot;A&quot;</td><td>&quot;YY&quot;</td><td>-0.722236</td><td>6</td></tr><tr><td>4</td><td>&quot;A&quot;</td><td>&quot;XXX&quot;</td><td>0.631321</td><td>5</td></tr><tr><td>5</td><td>&quot;C&quot;</td><td>&quot;XXX&quot;</td><td>-0.667093</td><td>5</td></tr><tr><td>&hellip;</td><td>&hellip;</td><td>&hellip;</td><td>&hellip;</td><td>&hellip;</td></tr><tr><td>1499996</td><td>&quot;A&quot;</td><td>&quot;XXX&quot;</td><td>0.166501</td><td>5</td></tr><tr><td>1499997</td><td>&quot;B&quot;</td><td>&quot;ZZZZ&quot;</td><td>-1.279135</td><td>8</td></tr><tr><td>1499998</td><td>&quot;A&quot;</td><td>&quot;YY&quot;</td><td>-0.966532</td><td>6</td></tr><tr><td>1499999</td><td>&quot;C&quot;</td><td>&quot;XXX&quot;</td><td>0.837054</td><td>5</td></tr><tr><td>1500000</td><td>&quot;C&quot;</td><td>&quot;ZZZZ&quot;</td><td>-0.504551</td><td>4</td></tr></tbody></table></div>"
      ],
      "text/plain": [
       "shape: (1_436_507, 5)\n",
       "┌─────────┬────────┬────────┬───────────┬────────┐\n",
       "│ id      ┆ group1 ┆ group2 ┆ value     ┆ weight │\n",
       "│ ---     ┆ ---    ┆ ---    ┆ ---       ┆ ---    │\n",
       "│ i64     ┆ str    ┆ str    ┆ f64       ┆ i64    │\n",
       "╞═════════╪════════╪════════╪═══════════╪════════╡\n",
       "│ 1       ┆ B      ┆ YY     ┆ 0.177553  ┆ 9      │\n",
       "│ 2       ┆ A      ┆ XXX    ┆ -0.356422 ┆ 5      │\n",
       "│ 3       ┆ A      ┆ YY     ┆ -0.722236 ┆ 6      │\n",
       "│ 4       ┆ A      ┆ XXX    ┆ 0.631321  ┆ 5      │\n",
       "│ 5       ┆ C      ┆ XXX    ┆ -0.667093 ┆ 5      │\n",
       "│ …       ┆ …      ┆ …      ┆ …         ┆ …      │\n",
       "│ 1499996 ┆ A      ┆ XXX    ┆ 0.166501  ┆ 5      │\n",
       "│ 1499997 ┆ B      ┆ ZZZZ   ┆ -1.279135 ┆ 8      │\n",
       "│ 1499998 ┆ A      ┆ YY     ┆ -0.966532 ┆ 6      │\n",
       "│ 1499999 ┆ C      ┆ XXX    ┆ 0.837054  ┆ 5      │\n",
       "│ 1500000 ┆ C      ┆ ZZZZ   ┆ -0.504551 ┆ 4      │\n",
       "└─────────┴────────┴────────┴───────────┴────────┘"
      ]
     },
     "execution_count": 101,
     "metadata": {},
     "output_type": "execute_result"
    }
   ],
   "source": [
    "all_data.with_columns(\n",
    "    pl.col(\"group2\").map_elements(my_func, return_dtype=pl.String)\n",
    ")"
   ]
  },
  {
   "cell_type": "markdown",
   "metadata": {},
   "source": [
    "### 縦長データ <-> 横長データの変換\n",
    "* 縦長データ -> 横長データ\n",
    "    * \n",
    "* 横長データ -> 縦長データ\n",
    "    * "
   ]
  },
  {
   "cell_type": "code",
   "execution_count": 106,
   "metadata": {},
   "outputs": [
    {
     "data": {
      "text/html": [
       "<div><style>\n",
       ".dataframe > thead > tr,\n",
       ".dataframe > tbody > tr {\n",
       "  text-align: right;\n",
       "  white-space: pre-wrap;\n",
       "}\n",
       "</style>\n",
       "<small>shape: (6, 4)</small><table border=\"1\" class=\"dataframe\"><thead><tr><th>id</th><th>cat</th><th>value1</th><th>value2</th></tr><tr><td>i64</td><td>str</td><td>i64</td><td>i64</td></tr></thead><tbody><tr><td>1</td><td>&quot;A&quot;</td><td>10</td><td>1</td></tr><tr><td>1</td><td>&quot;B&quot;</td><td>12</td><td>2</td></tr><tr><td>1</td><td>&quot;C&quot;</td><td>14</td><td>4</td></tr><tr><td>2</td><td>&quot;A&quot;</td><td>16</td><td>6</td></tr><tr><td>2</td><td>&quot;B&quot;</td><td>18</td><td>8</td></tr><tr><td>2</td><td>&quot;C&quot;</td><td>20</td><td>10</td></tr></tbody></table></div>"
      ],
      "text/plain": [
       "shape: (6, 4)\n",
       "┌─────┬─────┬────────┬────────┐\n",
       "│ id  ┆ cat ┆ value1 ┆ value2 │\n",
       "│ --- ┆ --- ┆ ---    ┆ ---    │\n",
       "│ i64 ┆ str ┆ i64    ┆ i64    │\n",
       "╞═════╪═════╪════════╪════════╡\n",
       "│ 1   ┆ A   ┆ 10     ┆ 1      │\n",
       "│ 1   ┆ B   ┆ 12     ┆ 2      │\n",
       "│ 1   ┆ C   ┆ 14     ┆ 4      │\n",
       "│ 2   ┆ A   ┆ 16     ┆ 6      │\n",
       "│ 2   ┆ B   ┆ 18     ┆ 8      │\n",
       "│ 2   ┆ C   ┆ 20     ┆ 10     │\n",
       "└─────┴─────┴────────┴────────┘"
      ]
     },
     "execution_count": 106,
     "metadata": {},
     "output_type": "execute_result"
    }
   ],
   "source": [
    "sample_data = pl.DataFrame(\n",
    "    {\n",
    "        \"id\": [1, 1, 1, 2, 2, 2],\n",
    "        \"cat\": [\"A\", \"B\", \"C\", \"A\", \"B\", \"C\"],\n",
    "        \"value1\": [10, 12, 14, 16, 18, 20],\n",
    "        \"value2\": [1, 2, 4, 6, 8, 10],\n",
    "    }\n",
    ")\n",
    "sample_data"
   ]
  },
  {
   "cell_type": "code",
   "execution_count": 107,
   "metadata": {},
   "outputs": [
    {
     "data": {
      "text/html": [
       "<div><style>\n",
       ".dataframe > thead > tr,\n",
       ".dataframe > tbody > tr {\n",
       "  text-align: right;\n",
       "  white-space: pre-wrap;\n",
       "}\n",
       "</style>\n",
       "<small>shape: (2, 7)</small><table border=\"1\" class=\"dataframe\"><thead><tr><th>id</th><th>value1_A</th><th>value1_B</th><th>value1_C</th><th>value2_A</th><th>value2_B</th><th>value2_C</th></tr><tr><td>i64</td><td>i64</td><td>i64</td><td>i64</td><td>i64</td><td>i64</td><td>i64</td></tr></thead><tbody><tr><td>1</td><td>10</td><td>12</td><td>14</td><td>1</td><td>2</td><td>4</td></tr><tr><td>2</td><td>16</td><td>18</td><td>20</td><td>6</td><td>8</td><td>10</td></tr></tbody></table></div>"
      ],
      "text/plain": [
       "shape: (2, 7)\n",
       "┌─────┬──────────┬──────────┬──────────┬──────────┬──────────┬──────────┐\n",
       "│ id  ┆ value1_A ┆ value1_B ┆ value1_C ┆ value2_A ┆ value2_B ┆ value2_C │\n",
       "│ --- ┆ ---      ┆ ---      ┆ ---      ┆ ---      ┆ ---      ┆ ---      │\n",
       "│ i64 ┆ i64      ┆ i64      ┆ i64      ┆ i64      ┆ i64      ┆ i64      │\n",
       "╞═════╪══════════╪══════════╪══════════╪══════════╪══════════╪══════════╡\n",
       "│ 1   ┆ 10       ┆ 12       ┆ 14       ┆ 1        ┆ 2        ┆ 4        │\n",
       "│ 2   ┆ 16       ┆ 18       ┆ 20       ┆ 6        ┆ 8        ┆ 10       │\n",
       "└─────┴──────────┴──────────┴──────────┴──────────┴──────────┴──────────┘"
      ]
     },
     "execution_count": 107,
     "metadata": {},
     "output_type": "execute_result"
    }
   ],
   "source": [
    "sample_data.pivot(on=\"cat\", index=\"id\", values=[\"value1\", \"value2\"])"
   ]
  },
  {
   "cell_type": "code",
   "execution_count": 114,
   "metadata": {},
   "outputs": [
    {
     "data": {
      "text/html": [
       "<div><style>\n",
       ".dataframe > thead > tr,\n",
       ".dataframe > tbody > tr {\n",
       "  text-align: right;\n",
       "  white-space: pre-wrap;\n",
       "}\n",
       "</style>\n",
       "<small>shape: (12, 4)</small><table border=\"1\" class=\"dataframe\"><thead><tr><th>id</th><th>cat</th><th>variable</th><th>value</th></tr><tr><td>i64</td><td>str</td><td>str</td><td>i64</td></tr></thead><tbody><tr><td>1</td><td>&quot;A&quot;</td><td>&quot;value1&quot;</td><td>10</td></tr><tr><td>1</td><td>&quot;B&quot;</td><td>&quot;value1&quot;</td><td>12</td></tr><tr><td>1</td><td>&quot;C&quot;</td><td>&quot;value1&quot;</td><td>14</td></tr><tr><td>2</td><td>&quot;A&quot;</td><td>&quot;value1&quot;</td><td>16</td></tr><tr><td>2</td><td>&quot;B&quot;</td><td>&quot;value1&quot;</td><td>18</td></tr><tr><td>&hellip;</td><td>&hellip;</td><td>&hellip;</td><td>&hellip;</td></tr><tr><td>1</td><td>&quot;B&quot;</td><td>&quot;value2&quot;</td><td>2</td></tr><tr><td>1</td><td>&quot;C&quot;</td><td>&quot;value2&quot;</td><td>4</td></tr><tr><td>2</td><td>&quot;A&quot;</td><td>&quot;value2&quot;</td><td>6</td></tr><tr><td>2</td><td>&quot;B&quot;</td><td>&quot;value2&quot;</td><td>8</td></tr><tr><td>2</td><td>&quot;C&quot;</td><td>&quot;value2&quot;</td><td>10</td></tr></tbody></table></div>"
      ],
      "text/plain": [
       "shape: (12, 4)\n",
       "┌─────┬─────┬──────────┬───────┐\n",
       "│ id  ┆ cat ┆ variable ┆ value │\n",
       "│ --- ┆ --- ┆ ---      ┆ ---   │\n",
       "│ i64 ┆ str ┆ str      ┆ i64   │\n",
       "╞═════╪═════╪══════════╪═══════╡\n",
       "│ 1   ┆ A   ┆ value1   ┆ 10    │\n",
       "│ 1   ┆ B   ┆ value1   ┆ 12    │\n",
       "│ 1   ┆ C   ┆ value1   ┆ 14    │\n",
       "│ 2   ┆ A   ┆ value1   ┆ 16    │\n",
       "│ 2   ┆ B   ┆ value1   ┆ 18    │\n",
       "│ …   ┆ …   ┆ …        ┆ …     │\n",
       "│ 1   ┆ B   ┆ value2   ┆ 2     │\n",
       "│ 1   ┆ C   ┆ value2   ┆ 4     │\n",
       "│ 2   ┆ A   ┆ value2   ┆ 6     │\n",
       "│ 2   ┆ B   ┆ value2   ┆ 8     │\n",
       "│ 2   ┆ C   ┆ value2   ┆ 10    │\n",
       "└─────┴─────┴──────────┴───────┘"
      ]
     },
     "execution_count": 114,
     "metadata": {},
     "output_type": "execute_result"
    }
   ],
   "source": [
    "# ピボット解除\n",
    "sample_data.unpivot(on=[\"value1\", \"value2\"], index=[\"id\", \"cat\"])"
   ]
  },
  {
   "cell_type": "code",
   "execution_count": 110,
   "metadata": {},
   "outputs": [
    {
     "data": {
      "text/html": [
       "<div><style>\n",
       ".dataframe > thead > tr,\n",
       ".dataframe > tbody > tr {\n",
       "  text-align: right;\n",
       "  white-space: pre-wrap;\n",
       "}\n",
       "</style>\n",
       "<small>shape: (6, 4)</small><table border=\"1\" class=\"dataframe\"><thead><tr><th>id</th><th>cat</th><th>value1</th><th>value2</th></tr><tr><td>i64</td><td>str</td><td>i64</td><td>i64</td></tr></thead><tbody><tr><td>1</td><td>&quot;A&quot;</td><td>10</td><td>1</td></tr><tr><td>1</td><td>&quot;A&quot;</td><td>12</td><td>2</td></tr><tr><td>1</td><td>&quot;C&quot;</td><td>14</td><td>4</td></tr><tr><td>2</td><td>&quot;A&quot;</td><td>16</td><td>6</td></tr><tr><td>2</td><td>&quot;B&quot;</td><td>18</td><td>8</td></tr><tr><td>2</td><td>&quot;C&quot;</td><td>20</td><td>10</td></tr></tbody></table></div>"
      ],
      "text/plain": [
       "shape: (6, 4)\n",
       "┌─────┬─────┬────────┬────────┐\n",
       "│ id  ┆ cat ┆ value1 ┆ value2 │\n",
       "│ --- ┆ --- ┆ ---    ┆ ---    │\n",
       "│ i64 ┆ str ┆ i64    ┆ i64    │\n",
       "╞═════╪═════╪════════╪════════╡\n",
       "│ 1   ┆ A   ┆ 10     ┆ 1      │\n",
       "│ 1   ┆ A   ┆ 12     ┆ 2      │\n",
       "│ 1   ┆ C   ┆ 14     ┆ 4      │\n",
       "│ 2   ┆ A   ┆ 16     ┆ 6      │\n",
       "│ 2   ┆ B   ┆ 18     ┆ 8      │\n",
       "│ 2   ┆ C   ┆ 20     ┆ 10     │\n",
       "└─────┴─────┴────────┴────────┘"
      ]
     },
     "execution_count": 110,
     "metadata": {},
     "output_type": "execute_result"
    }
   ],
   "source": [
    "sample_data2 = pl.DataFrame(\n",
    "    {\n",
    "        \"id\": [1, 1, 1, 2, 2, 2],\n",
    "        \"cat\": [\"A\", \"A\", \"C\", \"A\", \"B\", \"C\"],\n",
    "        \"value1\": [10, -10, 14, 16, 18, 20],\n",
    "        \"value2\": [1, 2, 4, 6, 8, 10],\n",
    "    }\n",
    ")\n",
    "sample_data2"
   ]
  },
  {
   "cell_type": "code",
   "execution_count": 113,
   "metadata": {},
   "outputs": [
    {
     "data": {
      "text/html": [
       "<div><style>\n",
       ".dataframe > thead > tr,\n",
       ".dataframe > tbody > tr {\n",
       "  text-align: right;\n",
       "  white-space: pre-wrap;\n",
       "}\n",
       "</style>\n",
       "<small>shape: (2, 7)</small><table border=\"1\" class=\"dataframe\"><thead><tr><th>id</th><th>value1_A</th><th>value1_C</th><th>value1_B</th><th>value2_A</th><th>value2_C</th><th>value2_B</th></tr><tr><td>i64</td><td>list[i64]</td><td>list[i64]</td><td>list[i64]</td><td>list[i64]</td><td>list[i64]</td><td>list[i64]</td></tr></thead><tbody><tr><td>1</td><td>[10, 12]</td><td>[14]</td><td>null</td><td>[1, 2]</td><td>[4]</td><td>null</td></tr><tr><td>2</td><td>[16]</td><td>[20]</td><td>[18]</td><td>[6]</td><td>[10]</td><td>[8]</td></tr></tbody></table></div>"
      ],
      "text/plain": [
       "shape: (2, 7)\n",
       "┌─────┬───────────┬───────────┬───────────┬───────────┬───────────┬───────────┐\n",
       "│ id  ┆ value1_A  ┆ value1_C  ┆ value1_B  ┆ value2_A  ┆ value2_C  ┆ value2_B  │\n",
       "│ --- ┆ ---       ┆ ---       ┆ ---       ┆ ---       ┆ ---       ┆ ---       │\n",
       "│ i64 ┆ list[i64] ┆ list[i64] ┆ list[i64] ┆ list[i64] ┆ list[i64] ┆ list[i64] │\n",
       "╞═════╪═══════════╪═══════════╪═══════════╪═══════════╪═══════════╪═══════════╡\n",
       "│ 1   ┆ [10, 12]  ┆ [14]      ┆ null      ┆ [1, 2]    ┆ [4]       ┆ null      │\n",
       "│ 2   ┆ [16]      ┆ [20]      ┆ [18]      ┆ [6]       ┆ [10]      ┆ [8]       │\n",
       "└─────┴───────────┴───────────┴───────────┴───────────┴───────────┴───────────┘"
      ]
     },
     "execution_count": 113,
     "metadata": {},
     "output_type": "execute_result"
    }
   ],
   "source": [
    "# 重複がある場合， `aggregate_function`に引数を与える\n",
    "# 計算結果ではなく，どんな値が入っているかを確かめたいときは， `pl.element`とすると，値の配列が得られる\n",
    "sample_data2.pivot(on=\"cat\", index=\"id\", values=[\"value1\", \"value2\"], aggregate_function=pl.element())"
   ]
  },
  {
   "cell_type": "code",
   "execution_count": null,
   "metadata": {},
   "outputs": [],
   "source": []
  }
 ],
 "metadata": {
  "kernelspec": {
   "display_name": "Python 3",
   "language": "python",
   "name": "python3"
  },
  "language_info": {
   "codemirror_mode": {
    "name": "ipython",
    "version": 3
   },
   "file_extension": ".py",
   "mimetype": "text/x-python",
   "name": "python",
   "nbconvert_exporter": "python",
   "pygments_lexer": "ipython3",
   "version": "3.12.4"
  }
 },
 "nbformat": 4,
 "nbformat_minor": 2
}
