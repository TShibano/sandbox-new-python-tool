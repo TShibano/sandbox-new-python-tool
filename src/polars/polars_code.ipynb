{
 "cells": [
  {
   "cell_type": "markdown",
   "metadata": {},
   "source": [
    "# データ処理方法 -polars- \n",
    "こちらはpolarsのコードを書く．"
   ]
  },
  {
   "cell_type": "markdown",
   "metadata": {},
   "source": [
    "## ライブラリのインポート"
   ]
  },
  {
   "cell_type": "code",
   "execution_count": 1,
   "metadata": {},
   "outputs": [],
   "source": [
    "import polars as pl"
   ]
  },
  {
   "cell_type": "code",
   "execution_count": 2,
   "metadata": {},
   "outputs": [
    {
     "name": "stdout",
     "output_type": "stream",
     "text": [
      "1.3.0\n"
     ]
    }
   ],
   "source": [
    "print(pl.__version__)"
   ]
  },
  {
   "cell_type": "markdown",
   "metadata": {},
   "source": [
    "## データの読み込み\n",
    "今回は3種類のデータを用意\n",
    "* データ1\n",
    "    * 100万行4列\n",
    "* データ2\n",
    "    * 50万行4列\n",
    "    * データ1と同じ列\n",
    "* 重みデータ\n",
    "    * データ1とデータ2に存在する2つの列(\"group1\", \"group2\")の各値に対する重み値を保存しているデータ"
   ]
  },
  {
   "cell_type": "code",
   "execution_count": 3,
   "metadata": {},
   "outputs": [
    {
     "name": "stdout",
     "output_type": "stream",
     "text": [
      "297 ms ± 107 ms per loop (mean ± std. dev. of 7 runs, 1 loop each)\n"
     ]
    }
   ],
   "source": [
    "%%timeit\n",
    "data1 = pl.read_csv(\"./sample_data/data1.csv\")"
   ]
  },
  {
   "cell_type": "code",
   "execution_count": 4,
   "metadata": {},
   "outputs": [],
   "source": [
    "data1 = pl.read_csv(\"./sample_data/data1.csv\")\n",
    "data2 = pl.read_csv(\"./sample_data/data2.csv\")\n",
    "weight_data = pl.read_excel(\"./sample_data/weight_data.xlsx\")"
   ]
  },
  {
   "cell_type": "markdown",
   "metadata": {},
   "source": [
    "## データの確認"
   ]
  },
  {
   "cell_type": "markdown",
   "metadata": {},
   "source": [
    "* サイズの確認\n",
    "    * `shape`\n",
    "* データの表示\n",
    "    * `head()`\n",
    "    * `tail()`\n",
    "    * `sample()`\n",
    "* 要約量の表示\n",
    "    * `describe()`"
   ]
  },
  {
   "cell_type": "code",
   "execution_count": 5,
   "metadata": {},
   "outputs": [
    {
     "data": {
      "text/plain": [
       "((1000000, 4), (500000, 4), (9, 3))"
      ]
     },
     "execution_count": 5,
     "metadata": {},
     "output_type": "execute_result"
    }
   ],
   "source": [
    "data1.shape, data2.shape, weight_data.shape"
   ]
  },
  {
   "cell_type": "code",
   "execution_count": 6,
   "metadata": {},
   "outputs": [
    {
     "data": {
      "text/html": [
       "<div><style>\n",
       ".dataframe > thead > tr,\n",
       ".dataframe > tbody > tr {\n",
       "  text-align: right;\n",
       "  white-space: pre-wrap;\n",
       "}\n",
       "</style>\n",
       "<small>shape: (10, 4)</small><table border=\"1\" class=\"dataframe\"><thead><tr><th>id</th><th>group1</th><th>group2</th><th>value</th></tr><tr><td>i64</td><td>str</td><td>str</td><td>f64</td></tr></thead><tbody><tr><td>1</td><td>&quot;C&quot;</td><td>&quot;X&quot;</td><td>0.875341</td></tr><tr><td>2</td><td>&quot;C&quot;</td><td>&quot;Z&quot;</td><td>-1.274481</td></tr><tr><td>3</td><td>&quot;A&quot;</td><td>&quot;Z&quot;</td><td>0.29918</td></tr><tr><td>4</td><td>&quot;C&quot;</td><td>&quot;Z&quot;</td><td>-1.326054</td></tr><tr><td>5</td><td>&quot;B&quot;</td><td>&quot;Z&quot;</td><td>0.166297</td></tr><tr><td>6</td><td>&quot;A&quot;</td><td>&quot;Z&quot;</td><td>-0.407868</td></tr><tr><td>7</td><td>&quot;C&quot;</td><td>&quot;Y&quot;</td><td>-1.155394</td></tr><tr><td>8</td><td>&quot;A&quot;</td><td>&quot;Y&quot;</td><td>0.717269</td></tr><tr><td>9</td><td>&quot;B&quot;</td><td>&quot;Z&quot;</td><td>-0.385354</td></tr><tr><td>10</td><td>&quot;B&quot;</td><td>&quot;X&quot;</td><td>-1.148564</td></tr></tbody></table></div>"
      ],
      "text/plain": [
       "shape: (10, 4)\n",
       "┌─────┬────────┬────────┬───────────┐\n",
       "│ id  ┆ group1 ┆ group2 ┆ value     │\n",
       "│ --- ┆ ---    ┆ ---    ┆ ---       │\n",
       "│ i64 ┆ str    ┆ str    ┆ f64       │\n",
       "╞═════╪════════╪════════╪═══════════╡\n",
       "│ 1   ┆ C      ┆ X      ┆ 0.875341  │\n",
       "│ 2   ┆ C      ┆ Z      ┆ -1.274481 │\n",
       "│ 3   ┆ A      ┆ Z      ┆ 0.29918   │\n",
       "│ 4   ┆ C      ┆ Z      ┆ -1.326054 │\n",
       "│ 5   ┆ B      ┆ Z      ┆ 0.166297  │\n",
       "│ 6   ┆ A      ┆ Z      ┆ -0.407868 │\n",
       "│ 7   ┆ C      ┆ Y      ┆ -1.155394 │\n",
       "│ 8   ┆ A      ┆ Y      ┆ 0.717269  │\n",
       "│ 9   ┆ B      ┆ Z      ┆ -0.385354 │\n",
       "│ 10  ┆ B      ┆ X      ┆ -1.148564 │\n",
       "└─────┴────────┴────────┴───────────┘"
      ]
     },
     "execution_count": 6,
     "metadata": {},
     "output_type": "execute_result"
    }
   ],
   "source": [
    "# 先頭から10行を表示\n",
    "data1.head(n=10)"
   ]
  },
  {
   "cell_type": "code",
   "execution_count": 7,
   "metadata": {},
   "outputs": [
    {
     "data": {
      "text/html": [
       "<div><style>\n",
       ".dataframe > thead > tr,\n",
       ".dataframe > tbody > tr {\n",
       "  text-align: right;\n",
       "  white-space: pre-wrap;\n",
       "}\n",
       "</style>\n",
       "<small>shape: (5, 4)</small><table border=\"1\" class=\"dataframe\"><thead><tr><th>id</th><th>group1</th><th>group2</th><th>value</th></tr><tr><td>i64</td><td>str</td><td>str</td><td>f64</td></tr></thead><tbody><tr><td>1255388</td><td>&quot;A&quot;</td><td>&quot;Y&quot;</td><td>-1.170482</td></tr><tr><td>1051319</td><td>&quot;C&quot;</td><td>&quot;Z&quot;</td><td>0.75141</td></tr><tr><td>1467314</td><td>&quot;B&quot;</td><td>&quot;X&quot;</td><td>1.67183</td></tr><tr><td>1123499</td><td>&quot;A&quot;</td><td>&quot;Z&quot;</td><td>-1.904677</td></tr><tr><td>1312794</td><td>&quot;C&quot;</td><td>&quot;Y&quot;</td><td>-0.55197</td></tr></tbody></table></div>"
      ],
      "text/plain": [
       "shape: (5, 4)\n",
       "┌─────────┬────────┬────────┬───────────┐\n",
       "│ id      ┆ group1 ┆ group2 ┆ value     │\n",
       "│ ---     ┆ ---    ┆ ---    ┆ ---       │\n",
       "│ i64     ┆ str    ┆ str    ┆ f64       │\n",
       "╞═════════╪════════╪════════╪═══════════╡\n",
       "│ 1255388 ┆ A      ┆ Y      ┆ -1.170482 │\n",
       "│ 1051319 ┆ C      ┆ Z      ┆ 0.75141   │\n",
       "│ 1467314 ┆ B      ┆ X      ┆ 1.67183   │\n",
       "│ 1123499 ┆ A      ┆ Z      ┆ -1.904677 │\n",
       "│ 1312794 ┆ C      ┆ Y      ┆ -0.55197  │\n",
       "└─────────┴────────┴────────┴───────────┘"
      ]
     },
     "execution_count": 7,
     "metadata": {},
     "output_type": "execute_result"
    }
   ],
   "source": [
    "# ランダムに5行表示\n",
    "data2.sample(n=5)"
   ]
  },
  {
   "cell_type": "code",
   "execution_count": 8,
   "metadata": {},
   "outputs": [
    {
     "data": {
      "text/html": [
       "<div><style>\n",
       ".dataframe > thead > tr,\n",
       ".dataframe > tbody > tr {\n",
       "  text-align: right;\n",
       "  white-space: pre-wrap;\n",
       "}\n",
       "</style>\n",
       "<small>shape: (9, 3)</small><table border=\"1\" class=\"dataframe\"><thead><tr><th>group1</th><th>group2</th><th>weight</th></tr><tr><td>str</td><td>str</td><td>i64</td></tr></thead><tbody><tr><td>&quot;A&quot;</td><td>&quot;X&quot;</td><td>5</td></tr><tr><td>&quot;A&quot;</td><td>&quot;Y&quot;</td><td>6</td></tr><tr><td>&quot;A&quot;</td><td>&quot;Z&quot;</td><td>1</td></tr><tr><td>&quot;B&quot;</td><td>&quot;X&quot;</td><td>4</td></tr><tr><td>&quot;B&quot;</td><td>&quot;Y&quot;</td><td>9</td></tr><tr><td>&quot;B&quot;</td><td>&quot;Z&quot;</td><td>8</td></tr><tr><td>&quot;C&quot;</td><td>&quot;X&quot;</td><td>5</td></tr><tr><td>&quot;C&quot;</td><td>&quot;Y&quot;</td><td>4</td></tr><tr><td>&quot;C&quot;</td><td>&quot;Z&quot;</td><td>4</td></tr></tbody></table></div>"
      ],
      "text/plain": [
       "shape: (9, 3)\n",
       "┌────────┬────────┬────────┐\n",
       "│ group1 ┆ group2 ┆ weight │\n",
       "│ ---    ┆ ---    ┆ ---    │\n",
       "│ str    ┆ str    ┆ i64    │\n",
       "╞════════╪════════╪════════╡\n",
       "│ A      ┆ X      ┆ 5      │\n",
       "│ A      ┆ Y      ┆ 6      │\n",
       "│ A      ┆ Z      ┆ 1      │\n",
       "│ B      ┆ X      ┆ 4      │\n",
       "│ B      ┆ Y      ┆ 9      │\n",
       "│ B      ┆ Z      ┆ 8      │\n",
       "│ C      ┆ X      ┆ 5      │\n",
       "│ C      ┆ Y      ┆ 4      │\n",
       "│ C      ┆ Z      ┆ 4      │\n",
       "└────────┴────────┴────────┘"
      ]
     },
     "execution_count": 8,
     "metadata": {},
     "output_type": "execute_result"
    }
   ],
   "source": [
    "weight_data.tail(n=9)"
   ]
  },
  {
   "cell_type": "code",
   "execution_count": 9,
   "metadata": {},
   "outputs": [
    {
     "data": {
      "text/html": [
       "<div><style>\n",
       ".dataframe > thead > tr,\n",
       ".dataframe > tbody > tr {\n",
       "  text-align: right;\n",
       "  white-space: pre-wrap;\n",
       "}\n",
       "</style>\n",
       "<small>shape: (9, 5)</small><table border=\"1\" class=\"dataframe\"><thead><tr><th>statistic</th><th>id</th><th>group1</th><th>group2</th><th>value</th></tr><tr><td>str</td><td>f64</td><td>str</td><td>str</td><td>f64</td></tr></thead><tbody><tr><td>&quot;count&quot;</td><td>1e6</td><td>&quot;967744&quot;</td><td>&quot;967886&quot;</td><td>1e6</td></tr><tr><td>&quot;null_count&quot;</td><td>0.0</td><td>&quot;32256&quot;</td><td>&quot;32114&quot;</td><td>0.0</td></tr><tr><td>&quot;mean&quot;</td><td>500000.5</td><td>null</td><td>null</td><td>0.000969</td></tr><tr><td>&quot;std&quot;</td><td>288675.278932</td><td>null</td><td>null</td><td>1.001348</td></tr><tr><td>&quot;min&quot;</td><td>1.0</td><td>&quot;A&quot;</td><td>&quot;X&quot;</td><td>-4.729759</td></tr><tr><td>&quot;25%&quot;</td><td>250001.0</td><td>null</td><td>null</td><td>-0.675543</td></tr><tr><td>&quot;50%&quot;</td><td>500001.0</td><td>null</td><td>null</td><td>0.00025</td></tr><tr><td>&quot;75%&quot;</td><td>750000.0</td><td>null</td><td>null</td><td>0.675406</td></tr><tr><td>&quot;max&quot;</td><td>1e6</td><td>&quot;C&quot;</td><td>&quot;Z&quot;</td><td>4.715991</td></tr></tbody></table></div>"
      ],
      "text/plain": [
       "shape: (9, 5)\n",
       "┌────────────┬───────────────┬────────┬────────┬───────────┐\n",
       "│ statistic  ┆ id            ┆ group1 ┆ group2 ┆ value     │\n",
       "│ ---        ┆ ---           ┆ ---    ┆ ---    ┆ ---       │\n",
       "│ str        ┆ f64           ┆ str    ┆ str    ┆ f64       │\n",
       "╞════════════╪═══════════════╪════════╪════════╪═══════════╡\n",
       "│ count      ┆ 1e6           ┆ 967744 ┆ 967886 ┆ 1e6       │\n",
       "│ null_count ┆ 0.0           ┆ 32256  ┆ 32114  ┆ 0.0       │\n",
       "│ mean       ┆ 500000.5      ┆ null   ┆ null   ┆ 0.000969  │\n",
       "│ std        ┆ 288675.278932 ┆ null   ┆ null   ┆ 1.001348  │\n",
       "│ min        ┆ 1.0           ┆ A      ┆ X      ┆ -4.729759 │\n",
       "│ 25%        ┆ 250001.0      ┆ null   ┆ null   ┆ -0.675543 │\n",
       "│ 50%        ┆ 500001.0      ┆ null   ┆ null   ┆ 0.00025   │\n",
       "│ 75%        ┆ 750000.0      ┆ null   ┆ null   ┆ 0.675406  │\n",
       "│ max        ┆ 1e6           ┆ C      ┆ Z      ┆ 4.715991  │\n",
       "└────────────┴───────────────┴────────┴────────┴───────────┘"
      ]
     },
     "execution_count": 9,
     "metadata": {},
     "output_type": "execute_result"
    }
   ],
   "source": [
    "# 要約量を表示する\n",
    "data1.describe()"
   ]
  },
  {
   "cell_type": "markdown",
   "metadata": {},
   "source": [
    "## データ操作\n",
    "ここでの操作方法は後の前処理でたくさん使われる．\n",
    "* 列の操作\n",
    "    * `select()`\n",
    "* 行の操作\n",
    "    * `filter()`\n",
    "* グループ化\n",
    "    * `group_by()`"
   ]
  },
  {
   "cell_type": "markdown",
   "metadata": {},
   "source": [
    "### 列の操作"
   ]
  },
  {
   "cell_type": "code",
   "execution_count": 10,
   "metadata": {},
   "outputs": [
    {
     "data": {
      "text/html": [
       "<div><style>\n",
       ".dataframe > thead > tr,\n",
       ".dataframe > tbody > tr {\n",
       "  text-align: right;\n",
       "  white-space: pre-wrap;\n",
       "}\n",
       "</style>\n",
       "<small>shape: (1_000_000, 4)</small><table border=\"1\" class=\"dataframe\"><thead><tr><th>id</th><th>group1</th><th>group2</th><th>value</th></tr><tr><td>i64</td><td>str</td><td>str</td><td>f64</td></tr></thead><tbody><tr><td>1</td><td>&quot;C&quot;</td><td>&quot;X&quot;</td><td>0.875341</td></tr><tr><td>2</td><td>&quot;C&quot;</td><td>&quot;Z&quot;</td><td>-1.274481</td></tr><tr><td>3</td><td>&quot;A&quot;</td><td>&quot;Z&quot;</td><td>0.29918</td></tr><tr><td>4</td><td>&quot;C&quot;</td><td>&quot;Z&quot;</td><td>-1.326054</td></tr><tr><td>5</td><td>&quot;B&quot;</td><td>&quot;Z&quot;</td><td>0.166297</td></tr><tr><td>&hellip;</td><td>&hellip;</td><td>&hellip;</td><td>&hellip;</td></tr><tr><td>999996</td><td>&quot;A&quot;</td><td>&quot;X&quot;</td><td>0.503502</td></tr><tr><td>999997</td><td>&quot;B&quot;</td><td>&quot;Y&quot;</td><td>-1.03132</td></tr><tr><td>999998</td><td>&quot;A&quot;</td><td>&quot;Y&quot;</td><td>-0.157509</td></tr><tr><td>999999</td><td>&quot;A&quot;</td><td>&quot;Z&quot;</td><td>0.811663</td></tr><tr><td>1000000</td><td>&quot;B&quot;</td><td>&quot;Z&quot;</td><td>0.671705</td></tr></tbody></table></div>"
      ],
      "text/plain": [
       "shape: (1_000_000, 4)\n",
       "┌─────────┬────────┬────────┬───────────┐\n",
       "│ id      ┆ group1 ┆ group2 ┆ value     │\n",
       "│ ---     ┆ ---    ┆ ---    ┆ ---       │\n",
       "│ i64     ┆ str    ┆ str    ┆ f64       │\n",
       "╞═════════╪════════╪════════╪═══════════╡\n",
       "│ 1       ┆ C      ┆ X      ┆ 0.875341  │\n",
       "│ 2       ┆ C      ┆ Z      ┆ -1.274481 │\n",
       "│ 3       ┆ A      ┆ Z      ┆ 0.29918   │\n",
       "│ 4       ┆ C      ┆ Z      ┆ -1.326054 │\n",
       "│ 5       ┆ B      ┆ Z      ┆ 0.166297  │\n",
       "│ …       ┆ …      ┆ …      ┆ …         │\n",
       "│ 999996  ┆ A      ┆ X      ┆ 0.503502  │\n",
       "│ 999997  ┆ B      ┆ Y      ┆ -1.03132  │\n",
       "│ 999998  ┆ A      ┆ Y      ┆ -0.157509 │\n",
       "│ 999999  ┆ A      ┆ Z      ┆ 0.811663  │\n",
       "│ 1000000 ┆ B      ┆ Z      ┆ 0.671705  │\n",
       "└─────────┴────────┴────────┴───────────┘"
      ]
     },
     "execution_count": 10,
     "metadata": {},
     "output_type": "execute_result"
    }
   ],
   "source": [
    "# すべての列を表示\n",
    "data1.select(pl.col(\"*\"))"
   ]
  },
  {
   "cell_type": "code",
   "execution_count": 11,
   "metadata": {},
   "outputs": [
    {
     "data": {
      "text/html": [
       "<div><style>\n",
       ".dataframe > thead > tr,\n",
       ".dataframe > tbody > tr {\n",
       "  text-align: right;\n",
       "  white-space: pre-wrap;\n",
       "}\n",
       "</style>\n",
       "<small>shape: (1_000_000, 2)</small><table border=\"1\" class=\"dataframe\"><thead><tr><th>group1</th><th>group2</th></tr><tr><td>str</td><td>str</td></tr></thead><tbody><tr><td>&quot;C&quot;</td><td>&quot;X&quot;</td></tr><tr><td>&quot;C&quot;</td><td>&quot;Z&quot;</td></tr><tr><td>&quot;A&quot;</td><td>&quot;Z&quot;</td></tr><tr><td>&quot;C&quot;</td><td>&quot;Z&quot;</td></tr><tr><td>&quot;B&quot;</td><td>&quot;Z&quot;</td></tr><tr><td>&hellip;</td><td>&hellip;</td></tr><tr><td>&quot;A&quot;</td><td>&quot;X&quot;</td></tr><tr><td>&quot;B&quot;</td><td>&quot;Y&quot;</td></tr><tr><td>&quot;A&quot;</td><td>&quot;Y&quot;</td></tr><tr><td>&quot;A&quot;</td><td>&quot;Z&quot;</td></tr><tr><td>&quot;B&quot;</td><td>&quot;Z&quot;</td></tr></tbody></table></div>"
      ],
      "text/plain": [
       "shape: (1_000_000, 2)\n",
       "┌────────┬────────┐\n",
       "│ group1 ┆ group2 │\n",
       "│ ---    ┆ ---    │\n",
       "│ str    ┆ str    │\n",
       "╞════════╪════════╡\n",
       "│ C      ┆ X      │\n",
       "│ C      ┆ Z      │\n",
       "│ A      ┆ Z      │\n",
       "│ C      ┆ Z      │\n",
       "│ B      ┆ Z      │\n",
       "│ …      ┆ …      │\n",
       "│ A      ┆ X      │\n",
       "│ B      ┆ Y      │\n",
       "│ A      ┆ Y      │\n",
       "│ A      ┆ Z      │\n",
       "│ B      ┆ Z      │\n",
       "└────────┴────────┘"
      ]
     },
     "execution_count": 11,
     "metadata": {},
     "output_type": "execute_result"
    }
   ],
   "source": [
    "# 正規表現で列を抽出する\n",
    "data1.select(pl.col(\"^gro.*$\"))"
   ]
  },
  {
   "cell_type": "code",
   "execution_count": 12,
   "metadata": {},
   "outputs": [
    {
     "data": {
      "text/html": [
       "<div><style>\n",
       ".dataframe > thead > tr,\n",
       ".dataframe > tbody > tr {\n",
       "  text-align: right;\n",
       "  white-space: pre-wrap;\n",
       "}\n",
       "</style>\n",
       "<small>shape: (1_000_000, 2)</small><table border=\"1\" class=\"dataframe\"><thead><tr><th>id</th><th>value</th></tr><tr><td>i64</td><td>f64</td></tr></thead><tbody><tr><td>1</td><td>0.875341</td></tr><tr><td>2</td><td>-1.274481</td></tr><tr><td>3</td><td>0.29918</td></tr><tr><td>4</td><td>-1.326054</td></tr><tr><td>5</td><td>0.166297</td></tr><tr><td>&hellip;</td><td>&hellip;</td></tr><tr><td>999996</td><td>0.503502</td></tr><tr><td>999997</td><td>-1.03132</td></tr><tr><td>999998</td><td>-0.157509</td></tr><tr><td>999999</td><td>0.811663</td></tr><tr><td>1000000</td><td>0.671705</td></tr></tbody></table></div>"
      ],
      "text/plain": [
       "shape: (1_000_000, 2)\n",
       "┌─────────┬───────────┐\n",
       "│ id      ┆ value     │\n",
       "│ ---     ┆ ---       │\n",
       "│ i64     ┆ f64       │\n",
       "╞═════════╪═══════════╡\n",
       "│ 1       ┆ 0.875341  │\n",
       "│ 2       ┆ -1.274481 │\n",
       "│ 3       ┆ 0.29918   │\n",
       "│ 4       ┆ -1.326054 │\n",
       "│ 5       ┆ 0.166297  │\n",
       "│ …       ┆ …         │\n",
       "│ 999996  ┆ 0.503502  │\n",
       "│ 999997  ┆ -1.03132  │\n",
       "│ 999998  ┆ -0.157509 │\n",
       "│ 999999  ┆ 0.811663  │\n",
       "│ 1000000 ┆ 0.671705  │\n",
       "└─────────┴───────────┘"
      ]
     },
     "execution_count": 12,
     "metadata": {},
     "output_type": "execute_result"
    }
   ],
   "source": [
    "# ある列以外を抽出する\n",
    "data1.select(pl.exclude(\"^gro.*$\"))"
   ]
  },
  {
   "cell_type": "code",
   "execution_count": 13,
   "metadata": {},
   "outputs": [
    {
     "data": {
      "text/html": [
       "<div><style>\n",
       ".dataframe > thead > tr,\n",
       ".dataframe > tbody > tr {\n",
       "  text-align: right;\n",
       "  white-space: pre-wrap;\n",
       "}\n",
       "</style>\n",
       "<small>shape: (4, 1)</small><table border=\"1\" class=\"dataframe\"><thead><tr><th>group1</th></tr><tr><td>struct[2]</td></tr></thead><tbody><tr><td>{null,32256}</td></tr><tr><td>{&quot;B&quot;,322250}</td></tr><tr><td>{&quot;A&quot;,322207}</td></tr><tr><td>{&quot;C&quot;,323287}</td></tr></tbody></table></div>"
      ],
      "text/plain": [
       "shape: (4, 1)\n",
       "┌──────────────┐\n",
       "│ group1       │\n",
       "│ ---          │\n",
       "│ struct[2]    │\n",
       "╞══════════════╡\n",
       "│ {null,32256} │\n",
       "│ {\"B\",322250} │\n",
       "│ {\"A\",322207} │\n",
       "│ {\"C\",323287} │\n",
       "└──────────────┘"
      ]
     },
     "execution_count": 13,
     "metadata": {},
     "output_type": "execute_result"
    }
   ],
   "source": [
    "# ある列に出現する値の個数を数える\n",
    "data1.select(pl.col(\"group1\").value_counts())"
   ]
  },
  {
   "cell_type": "markdown",
   "metadata": {},
   "source": [
    "### 行の操作"
   ]
  },
  {
   "cell_type": "code",
   "execution_count": 14,
   "metadata": {},
   "outputs": [
    {
     "data": {
      "text/html": [
       "<div><style>\n",
       ".dataframe > thead > tr,\n",
       ".dataframe > tbody > tr {\n",
       "  text-align: right;\n",
       "  white-space: pre-wrap;\n",
       "}\n",
       "</style>\n",
       "<small>shape: (322_207, 4)</small><table border=\"1\" class=\"dataframe\"><thead><tr><th>id</th><th>group1</th><th>group2</th><th>value</th></tr><tr><td>i64</td><td>str</td><td>str</td><td>f64</td></tr></thead><tbody><tr><td>3</td><td>&quot;A&quot;</td><td>&quot;Z&quot;</td><td>0.29918</td></tr><tr><td>6</td><td>&quot;A&quot;</td><td>&quot;Z&quot;</td><td>-0.407868</td></tr><tr><td>8</td><td>&quot;A&quot;</td><td>&quot;Y&quot;</td><td>0.717269</td></tr><tr><td>13</td><td>&quot;A&quot;</td><td>&quot;Z&quot;</td><td>-0.299052</td></tr><tr><td>14</td><td>&quot;A&quot;</td><td>&quot;Z&quot;</td><td>0.623657</td></tr><tr><td>&hellip;</td><td>&hellip;</td><td>&hellip;</td><td>&hellip;</td></tr><tr><td>999983</td><td>&quot;A&quot;</td><td>&quot;X&quot;</td><td>-0.613297</td></tr><tr><td>999985</td><td>&quot;A&quot;</td><td>&quot;Z&quot;</td><td>0.457641</td></tr><tr><td>999996</td><td>&quot;A&quot;</td><td>&quot;X&quot;</td><td>0.503502</td></tr><tr><td>999998</td><td>&quot;A&quot;</td><td>&quot;Y&quot;</td><td>-0.157509</td></tr><tr><td>999999</td><td>&quot;A&quot;</td><td>&quot;Z&quot;</td><td>0.811663</td></tr></tbody></table></div>"
      ],
      "text/plain": [
       "shape: (322_207, 4)\n",
       "┌────────┬────────┬────────┬───────────┐\n",
       "│ id     ┆ group1 ┆ group2 ┆ value     │\n",
       "│ ---    ┆ ---    ┆ ---    ┆ ---       │\n",
       "│ i64    ┆ str    ┆ str    ┆ f64       │\n",
       "╞════════╪════════╪════════╪═══════════╡\n",
       "│ 3      ┆ A      ┆ Z      ┆ 0.29918   │\n",
       "│ 6      ┆ A      ┆ Z      ┆ -0.407868 │\n",
       "│ 8      ┆ A      ┆ Y      ┆ 0.717269  │\n",
       "│ 13     ┆ A      ┆ Z      ┆ -0.299052 │\n",
       "│ 14     ┆ A      ┆ Z      ┆ 0.623657  │\n",
       "│ …      ┆ …      ┆ …      ┆ …         │\n",
       "│ 999983 ┆ A      ┆ X      ┆ -0.613297 │\n",
       "│ 999985 ┆ A      ┆ Z      ┆ 0.457641  │\n",
       "│ 999996 ┆ A      ┆ X      ┆ 0.503502  │\n",
       "│ 999998 ┆ A      ┆ Y      ┆ -0.157509 │\n",
       "│ 999999 ┆ A      ┆ Z      ┆ 0.811663  │\n",
       "└────────┴────────┴────────┴───────────┘"
      ]
     },
     "execution_count": 14,
     "metadata": {},
     "output_type": "execute_result"
    }
   ],
   "source": [
    "# 行の抽出\n",
    "data1.filter(pl.col(\"group1\") == \"A\")"
   ]
  },
  {
   "cell_type": "code",
   "execution_count": 15,
   "metadata": {},
   "outputs": [
    {
     "data": {
      "text/html": [
       "<div><style>\n",
       ".dataframe > thead > tr,\n",
       ".dataframe > tbody > tr {\n",
       "  text-align: right;\n",
       "  white-space: pre-wrap;\n",
       "}\n",
       "</style>\n",
       "<small>shape: (103_602, 4)</small><table border=\"1\" class=\"dataframe\"><thead><tr><th>id</th><th>group1</th><th>group2</th><th>value</th></tr><tr><td>i64</td><td>str</td><td>str</td><td>f64</td></tr></thead><tbody><tr><td>33</td><td>&quot;A&quot;</td><td>&quot;X&quot;</td><td>-0.35049</td></tr><tr><td>39</td><td>&quot;A&quot;</td><td>&quot;X&quot;</td><td>2.41911</td></tr><tr><td>47</td><td>&quot;A&quot;</td><td>&quot;X&quot;</td><td>0.155541</td></tr><tr><td>48</td><td>&quot;A&quot;</td><td>&quot;X&quot;</td><td>0.567384</td></tr><tr><td>61</td><td>&quot;A&quot;</td><td>&quot;X&quot;</td><td>-0.182846</td></tr><tr><td>&hellip;</td><td>&hellip;</td><td>&hellip;</td><td>&hellip;</td></tr><tr><td>999954</td><td>&quot;A&quot;</td><td>&quot;X&quot;</td><td>2.055218</td></tr><tr><td>999955</td><td>&quot;A&quot;</td><td>&quot;X&quot;</td><td>0.465499</td></tr><tr><td>999968</td><td>&quot;A&quot;</td><td>&quot;X&quot;</td><td>-0.4807</td></tr><tr><td>999983</td><td>&quot;A&quot;</td><td>&quot;X&quot;</td><td>-0.613297</td></tr><tr><td>999996</td><td>&quot;A&quot;</td><td>&quot;X&quot;</td><td>0.503502</td></tr></tbody></table></div>"
      ],
      "text/plain": [
       "shape: (103_602, 4)\n",
       "┌────────┬────────┬────────┬───────────┐\n",
       "│ id     ┆ group1 ┆ group2 ┆ value     │\n",
       "│ ---    ┆ ---    ┆ ---    ┆ ---       │\n",
       "│ i64    ┆ str    ┆ str    ┆ f64       │\n",
       "╞════════╪════════╪════════╪═══════════╡\n",
       "│ 33     ┆ A      ┆ X      ┆ -0.35049  │\n",
       "│ 39     ┆ A      ┆ X      ┆ 2.41911   │\n",
       "│ 47     ┆ A      ┆ X      ┆ 0.155541  │\n",
       "│ 48     ┆ A      ┆ X      ┆ 0.567384  │\n",
       "│ 61     ┆ A      ┆ X      ┆ -0.182846 │\n",
       "│ …      ┆ …      ┆ …      ┆ …         │\n",
       "│ 999954 ┆ A      ┆ X      ┆ 2.055218  │\n",
       "│ 999955 ┆ A      ┆ X      ┆ 0.465499  │\n",
       "│ 999968 ┆ A      ┆ X      ┆ -0.4807   │\n",
       "│ 999983 ┆ A      ┆ X      ┆ -0.613297 │\n",
       "│ 999996 ┆ A      ┆ X      ┆ 0.503502  │\n",
       "└────────┴────────┴────────┴───────────┘"
      ]
     },
     "execution_count": 15,
     "metadata": {},
     "output_type": "execute_result"
    }
   ],
   "source": [
    "# 複数条件を使う\n",
    "# 変数を使うことも可能\n",
    "foo = \"X\"\n",
    "data1.filter((pl.col(\"group1\") == \"A\") & (pl.col(\"group2\") == f\"{foo}\"))\n",
    "# & の場合は `,` で書くこともできる\n",
    "# data1.filter(pl.col(\"group1\") == \"A\", pl.col(\"group2\") == \"X\")\n",
    "# OR の場合 `&` ではなく， `|` を使う\n",
    "# data1.filter((pl.col(\"group1\") == \"A\") | (pl.col(\"group2\") == \"X\"))"
   ]
  },
  {
   "cell_type": "code",
   "execution_count": 16,
   "metadata": {},
   "outputs": [
    {
     "data": {
      "text/html": [
       "<div><style>\n",
       ".dataframe > thead > tr,\n",
       ".dataframe > tbody > tr {\n",
       "  text-align: right;\n",
       "  white-space: pre-wrap;\n",
       "}\n",
       "</style>\n",
       "<small>shape: (645_494, 4)</small><table border=\"1\" class=\"dataframe\"><thead><tr><th>id</th><th>group1</th><th>group2</th><th>value</th></tr><tr><td>i64</td><td>str</td><td>str</td><td>f64</td></tr></thead><tbody><tr><td>1</td><td>&quot;C&quot;</td><td>&quot;X&quot;</td><td>0.875341</td></tr><tr><td>2</td><td>&quot;C&quot;</td><td>&quot;Z&quot;</td><td>-1.274481</td></tr><tr><td>3</td><td>&quot;A&quot;</td><td>&quot;Z&quot;</td><td>0.29918</td></tr><tr><td>4</td><td>&quot;C&quot;</td><td>&quot;Z&quot;</td><td>-1.326054</td></tr><tr><td>6</td><td>&quot;A&quot;</td><td>&quot;Z&quot;</td><td>-0.407868</td></tr><tr><td>&hellip;</td><td>&hellip;</td><td>&hellip;</td><td>&hellip;</td></tr><tr><td>999994</td><td>&quot;C&quot;</td><td>null</td><td>-0.180725</td></tr><tr><td>999995</td><td>&quot;C&quot;</td><td>&quot;X&quot;</td><td>1.733561</td></tr><tr><td>999996</td><td>&quot;A&quot;</td><td>&quot;X&quot;</td><td>0.503502</td></tr><tr><td>999998</td><td>&quot;A&quot;</td><td>&quot;Y&quot;</td><td>-0.157509</td></tr><tr><td>999999</td><td>&quot;A&quot;</td><td>&quot;Z&quot;</td><td>0.811663</td></tr></tbody></table></div>"
      ],
      "text/plain": [
       "shape: (645_494, 4)\n",
       "┌────────┬────────┬────────┬───────────┐\n",
       "│ id     ┆ group1 ┆ group2 ┆ value     │\n",
       "│ ---    ┆ ---    ┆ ---    ┆ ---       │\n",
       "│ i64    ┆ str    ┆ str    ┆ f64       │\n",
       "╞════════╪════════╪════════╪═══════════╡\n",
       "│ 1      ┆ C      ┆ X      ┆ 0.875341  │\n",
       "│ 2      ┆ C      ┆ Z      ┆ -1.274481 │\n",
       "│ 3      ┆ A      ┆ Z      ┆ 0.29918   │\n",
       "│ 4      ┆ C      ┆ Z      ┆ -1.326054 │\n",
       "│ 6      ┆ A      ┆ Z      ┆ -0.407868 │\n",
       "│ …      ┆ …      ┆ …      ┆ …         │\n",
       "│ 999994 ┆ C      ┆ null   ┆ -0.180725 │\n",
       "│ 999995 ┆ C      ┆ X      ┆ 1.733561  │\n",
       "│ 999996 ┆ A      ┆ X      ┆ 0.503502  │\n",
       "│ 999998 ┆ A      ┆ Y      ┆ -0.157509 │\n",
       "│ 999999 ┆ A      ┆ Z      ┆ 0.811663  │\n",
       "└────────┴────────┴────────┴───────────┘"
      ]
     },
     "execution_count": 16,
     "metadata": {},
     "output_type": "execute_result"
    }
   ],
   "source": [
    "# リストを条件に使う時\n",
    "data1.filter(pl.col(\"group1\").is_in([\"A\", \"C\"]))"
   ]
  },
  {
   "cell_type": "code",
   "execution_count": 17,
   "metadata": {},
   "outputs": [
    {
     "data": {
      "text/html": [
       "<div><style>\n",
       ".dataframe > thead > tr,\n",
       ".dataframe > tbody > tr {\n",
       "  text-align: right;\n",
       "  white-space: pre-wrap;\n",
       "}\n",
       "</style>\n",
       "<small>shape: (1_014, 4)</small><table border=\"1\" class=\"dataframe\"><thead><tr><th>id</th><th>group1</th><th>group2</th><th>value</th></tr><tr><td>i64</td><td>str</td><td>str</td><td>f64</td></tr></thead><tbody><tr><td>285</td><td>null</td><td>null</td><td>-0.619982</td></tr><tr><td>817</td><td>null</td><td>null</td><td>-1.530416</td></tr><tr><td>1207</td><td>null</td><td>null</td><td>-0.837263</td></tr><tr><td>3683</td><td>null</td><td>null</td><td>-0.010933</td></tr><tr><td>5073</td><td>null</td><td>null</td><td>0.218643</td></tr><tr><td>&hellip;</td><td>&hellip;</td><td>&hellip;</td><td>&hellip;</td></tr><tr><td>996682</td><td>null</td><td>null</td><td>-0.574811</td></tr><tr><td>997955</td><td>null</td><td>null</td><td>-0.833321</td></tr><tr><td>998194</td><td>null</td><td>null</td><td>-0.306645</td></tr><tr><td>998586</td><td>null</td><td>null</td><td>1.103169</td></tr><tr><td>998925</td><td>null</td><td>null</td><td>-0.997738</td></tr></tbody></table></div>"
      ],
      "text/plain": [
       "shape: (1_014, 4)\n",
       "┌────────┬────────┬────────┬───────────┐\n",
       "│ id     ┆ group1 ┆ group2 ┆ value     │\n",
       "│ ---    ┆ ---    ┆ ---    ┆ ---       │\n",
       "│ i64    ┆ str    ┆ str    ┆ f64       │\n",
       "╞════════╪════════╪════════╪═══════════╡\n",
       "│ 285    ┆ null   ┆ null   ┆ -0.619982 │\n",
       "│ 817    ┆ null   ┆ null   ┆ -1.530416 │\n",
       "│ 1207   ┆ null   ┆ null   ┆ -0.837263 │\n",
       "│ 3683   ┆ null   ┆ null   ┆ -0.010933 │\n",
       "│ 5073   ┆ null   ┆ null   ┆ 0.218643  │\n",
       "│ …      ┆ …      ┆ …      ┆ …         │\n",
       "│ 996682 ┆ null   ┆ null   ┆ -0.574811 │\n",
       "│ 997955 ┆ null   ┆ null   ┆ -0.833321 │\n",
       "│ 998194 ┆ null   ┆ null   ┆ -0.306645 │\n",
       "│ 998586 ┆ null   ┆ null   ┆ 1.103169  │\n",
       "│ 998925 ┆ null   ┆ null   ┆ -0.997738 │\n",
       "└────────┴────────┴────────┴───────────┘"
      ]
     },
     "execution_count": 17,
     "metadata": {},
     "output_type": "execute_result"
    }
   ],
   "source": [
    "# 欠損値を表示させる\n",
    "# group1, group2が共に欠損の行を抽出する\n",
    "data1.filter(pl.col(\"group1\").is_null(), pl.col(\"group2\").is_null())"
   ]
  },
  {
   "cell_type": "markdown",
   "metadata": {},
   "source": [
    "### グループ化"
   ]
  },
  {
   "cell_type": "code",
   "execution_count": 18,
   "metadata": {},
   "outputs": [
    {
     "data": {
      "text/html": [
       "<div><style>\n",
       ".dataframe > thead > tr,\n",
       ".dataframe > tbody > tr {\n",
       "  text-align: right;\n",
       "  white-space: pre-wrap;\n",
       "}\n",
       "</style>\n",
       "<small>shape: (4, 2)</small><table border=\"1\" class=\"dataframe\"><thead><tr><th>group1</th><th>value</th></tr><tr><td>str</td><td>f64</td></tr></thead><tbody><tr><td>&quot;B&quot;</td><td>0.001216</td></tr><tr><td>&quot;C&quot;</td><td>0.002538</td></tr><tr><td>null</td><td>-0.006814</td></tr><tr><td>&quot;A&quot;</td><td>-0.000072</td></tr></tbody></table></div>"
      ],
      "text/plain": [
       "shape: (4, 2)\n",
       "┌────────┬───────────┐\n",
       "│ group1 ┆ value     │\n",
       "│ ---    ┆ ---       │\n",
       "│ str    ┆ f64       │\n",
       "╞════════╪═══════════╡\n",
       "│ B      ┆ 0.001216  │\n",
       "│ C      ┆ 0.002538  │\n",
       "│ null   ┆ -0.006814 │\n",
       "│ A      ┆ -0.000072 │\n",
       "└────────┴───────────┘"
      ]
     },
     "execution_count": 18,
     "metadata": {},
     "output_type": "execute_result"
    }
   ],
   "source": [
    "# グループ化の欠損値は除外されない\n",
    "# また順序は保存されない(maintain_order = True とすることで，順序の保持が可能．ただし性能が落ちるので，あとでソートすれば良さそう)\n",
    "data1.group_by(\"group1\").agg(pl.mean(\"value\"))"
   ]
  },
  {
   "cell_type": "markdown",
   "metadata": {},
   "source": [
    "## 前処理"
   ]
  },
  {
   "cell_type": "markdown",
   "metadata": {},
   "source": [
    "* 重複の削除\n",
    "* データフレームの結合\n",
    "* 欠損値処理\n",
    "* 新しい列の作成\n",
    "* 縦長データ <-> 横長データの変換"
   ]
  },
  {
   "cell_type": "code",
   "execution_count": 19,
   "metadata": {},
   "outputs": [
    {
     "data": {
      "text/html": [
       "<div><style>\n",
       ".dataframe > thead > tr,\n",
       ".dataframe > tbody > tr {\n",
       "  text-align: right;\n",
       "  white-space: pre-wrap;\n",
       "}\n",
       "</style>\n",
       "<small>shape: (2, 2)</small><table border=\"1\" class=\"dataframe\"><thead><tr><th>A</th><th>B</th></tr><tr><td>str</td><td>i64</td></tr></thead><tbody><tr><td>&quot;Y&quot;</td><td>1</td></tr><tr><td>&quot;X&quot;</td><td>1</td></tr></tbody></table></div>"
      ],
      "text/plain": [
       "shape: (2, 2)\n",
       "┌─────┬─────┐\n",
       "│ A   ┆ B   │\n",
       "│ --- ┆ --- │\n",
       "│ str ┆ i64 │\n",
       "╞═════╪═════╡\n",
       "│ Y   ┆ 1   │\n",
       "│ X   ┆ 1   │\n",
       "└─────┴─────┘"
      ]
     },
     "execution_count": 19,
     "metadata": {},
     "output_type": "execute_result"
    }
   ],
   "source": [
    "df = pl.DataFrame({\"A\": [\"X\", \"X\", \"Y\"], \"B\": [1, 1, 1]})\n",
    "df.unique()"
   ]
  },
  {
   "cell_type": "markdown",
   "metadata": {},
   "source": [
    "### データフレームの結合\n",
    "* 縦に結合する\n",
    "    * `vstack()`\n",
    "* 横に結合する\n",
    "    * `join()`"
   ]
  },
  {
   "cell_type": "code",
   "execution_count": 20,
   "metadata": {},
   "outputs": [
    {
     "data": {
      "text/plain": [
       "(1500000, 4)"
      ]
     },
     "execution_count": 20,
     "metadata": {},
     "output_type": "execute_result"
    }
   ],
   "source": [
    "# 縦に結合\n",
    "# data1の下にdata2を結合し，新しいデータフレームを作成する\n",
    "data12 = data1.vstack(data2)\n",
    "data12.shape"
   ]
  },
  {
   "cell_type": "code",
   "execution_count": 21,
   "metadata": {},
   "outputs": [
    {
     "data": {
      "text/html": [
       "<div><style>\n",
       ".dataframe > thead > tr,\n",
       ".dataframe > tbody > tr {\n",
       "  text-align: right;\n",
       "  white-space: pre-wrap;\n",
       "}\n",
       "</style>\n",
       "<small>shape: (5, 4)</small><table border=\"1\" class=\"dataframe\"><thead><tr><th>id</th><th>group1</th><th>group2</th><th>value</th></tr><tr><td>i64</td><td>str</td><td>str</td><td>f64</td></tr></thead><tbody><tr><td>1</td><td>&quot;C&quot;</td><td>&quot;X&quot;</td><td>0.875341</td></tr><tr><td>2</td><td>&quot;C&quot;</td><td>&quot;Z&quot;</td><td>-1.274481</td></tr><tr><td>3</td><td>&quot;A&quot;</td><td>&quot;Z&quot;</td><td>0.29918</td></tr><tr><td>4</td><td>&quot;C&quot;</td><td>&quot;Z&quot;</td><td>-1.326054</td></tr><tr><td>5</td><td>&quot;B&quot;</td><td>&quot;Z&quot;</td><td>0.166297</td></tr></tbody></table></div>"
      ],
      "text/plain": [
       "shape: (5, 4)\n",
       "┌─────┬────────┬────────┬───────────┐\n",
       "│ id  ┆ group1 ┆ group2 ┆ value     │\n",
       "│ --- ┆ ---    ┆ ---    ┆ ---       │\n",
       "│ i64 ┆ str    ┆ str    ┆ f64       │\n",
       "╞═════╪════════╪════════╪═══════════╡\n",
       "│ 1   ┆ C      ┆ X      ┆ 0.875341  │\n",
       "│ 2   ┆ C      ┆ Z      ┆ -1.274481 │\n",
       "│ 3   ┆ A      ┆ Z      ┆ 0.29918   │\n",
       "│ 4   ┆ C      ┆ Z      ┆ -1.326054 │\n",
       "│ 5   ┆ B      ┆ Z      ┆ 0.166297  │\n",
       "└─────┴────────┴────────┴───────────┘"
      ]
     },
     "execution_count": 21,
     "metadata": {},
     "output_type": "execute_result"
    }
   ],
   "source": [
    "data12.head()"
   ]
  },
  {
   "cell_type": "code",
   "execution_count": 22,
   "metadata": {},
   "outputs": [
    {
     "data": {
      "text/html": [
       "<div><style>\n",
       ".dataframe > thead > tr,\n",
       ".dataframe > tbody > tr {\n",
       "  text-align: right;\n",
       "  white-space: pre-wrap;\n",
       "}\n",
       "</style>\n",
       "<small>shape: (9, 3)</small><table border=\"1\" class=\"dataframe\"><thead><tr><th>group1</th><th>group2</th><th>weight</th></tr><tr><td>str</td><td>str</td><td>i64</td></tr></thead><tbody><tr><td>&quot;A&quot;</td><td>&quot;X&quot;</td><td>5</td></tr><tr><td>&quot;A&quot;</td><td>&quot;Y&quot;</td><td>6</td></tr><tr><td>&quot;A&quot;</td><td>&quot;Z&quot;</td><td>1</td></tr><tr><td>&quot;B&quot;</td><td>&quot;X&quot;</td><td>4</td></tr><tr><td>&quot;B&quot;</td><td>&quot;Y&quot;</td><td>9</td></tr><tr><td>&quot;B&quot;</td><td>&quot;Z&quot;</td><td>8</td></tr><tr><td>&quot;C&quot;</td><td>&quot;X&quot;</td><td>5</td></tr><tr><td>&quot;C&quot;</td><td>&quot;Y&quot;</td><td>4</td></tr><tr><td>&quot;C&quot;</td><td>&quot;Z&quot;</td><td>4</td></tr></tbody></table></div>"
      ],
      "text/plain": [
       "shape: (9, 3)\n",
       "┌────────┬────────┬────────┐\n",
       "│ group1 ┆ group2 ┆ weight │\n",
       "│ ---    ┆ ---    ┆ ---    │\n",
       "│ str    ┆ str    ┆ i64    │\n",
       "╞════════╪════════╪════════╡\n",
       "│ A      ┆ X      ┆ 5      │\n",
       "│ A      ┆ Y      ┆ 6      │\n",
       "│ A      ┆ Z      ┆ 1      │\n",
       "│ B      ┆ X      ┆ 4      │\n",
       "│ B      ┆ Y      ┆ 9      │\n",
       "│ B      ┆ Z      ┆ 8      │\n",
       "│ C      ┆ X      ┆ 5      │\n",
       "│ C      ┆ Y      ┆ 4      │\n",
       "│ C      ┆ Z      ┆ 4      │\n",
       "└────────┴────────┴────────┘"
      ]
     },
     "execution_count": 22,
     "metadata": {},
     "output_type": "execute_result"
    }
   ],
   "source": [
    "# weight_dataを結合するために，データを確認する\n",
    "weight_data.head(n=10)"
   ]
  },
  {
   "cell_type": "code",
   "execution_count": 23,
   "metadata": {},
   "outputs": [],
   "source": [
    "# 横に結合する\n",
    "# キーはgroup1列，group2列同士で行う\n",
    "all_data = data12.join(other=weight_data,\n",
    "                       left_on=[\"group1\", \"group2\"],\n",
    "                       right_on=[\"group1\", \"group2\"],\n",
    "                       how=\"left\")"
   ]
  },
  {
   "cell_type": "code",
   "execution_count": 24,
   "metadata": {},
   "outputs": [
    {
     "data": {
      "text/plain": [
       "(1500000, 5)"
      ]
     },
     "execution_count": 24,
     "metadata": {},
     "output_type": "execute_result"
    }
   ],
   "source": [
    "all_data.shape"
   ]
  },
  {
   "cell_type": "code",
   "execution_count": 25,
   "metadata": {},
   "outputs": [
    {
     "data": {
      "text/html": [
       "<div><style>\n",
       ".dataframe > thead > tr,\n",
       ".dataframe > tbody > tr {\n",
       "  text-align: right;\n",
       "  white-space: pre-wrap;\n",
       "}\n",
       "</style>\n",
       "<small>shape: (5, 5)</small><table border=\"1\" class=\"dataframe\"><thead><tr><th>id</th><th>group1</th><th>group2</th><th>value</th><th>weight</th></tr><tr><td>i64</td><td>str</td><td>str</td><td>f64</td><td>i64</td></tr></thead><tbody><tr><td>148706</td><td>&quot;A&quot;</td><td>&quot;Z&quot;</td><td>0.944855</td><td>1</td></tr><tr><td>184594</td><td>&quot;C&quot;</td><td>&quot;Z&quot;</td><td>0.312546</td><td>4</td></tr><tr><td>1104865</td><td>&quot;C&quot;</td><td>&quot;X&quot;</td><td>0.204857</td><td>5</td></tr><tr><td>696629</td><td>&quot;B&quot;</td><td>&quot;Z&quot;</td><td>-1.188813</td><td>8</td></tr><tr><td>379543</td><td>&quot;B&quot;</td><td>&quot;Y&quot;</td><td>0.795852</td><td>9</td></tr></tbody></table></div>"
      ],
      "text/plain": [
       "shape: (5, 5)\n",
       "┌─────────┬────────┬────────┬───────────┬────────┐\n",
       "│ id      ┆ group1 ┆ group2 ┆ value     ┆ weight │\n",
       "│ ---     ┆ ---    ┆ ---    ┆ ---       ┆ ---    │\n",
       "│ i64     ┆ str    ┆ str    ┆ f64       ┆ i64    │\n",
       "╞═════════╪════════╪════════╪═══════════╪════════╡\n",
       "│ 148706  ┆ A      ┆ Z      ┆ 0.944855  ┆ 1      │\n",
       "│ 184594  ┆ C      ┆ Z      ┆ 0.312546  ┆ 4      │\n",
       "│ 1104865 ┆ C      ┆ X      ┆ 0.204857  ┆ 5      │\n",
       "│ 696629  ┆ B      ┆ Z      ┆ -1.188813 ┆ 8      │\n",
       "│ 379543  ┆ B      ┆ Y      ┆ 0.795852  ┆ 9      │\n",
       "└─────────┴────────┴────────┴───────────┴────────┘"
      ]
     },
     "execution_count": 25,
     "metadata": {},
     "output_type": "execute_result"
    }
   ],
   "source": [
    "# データを表示\n",
    "all_data.sample(n=5)"
   ]
  },
  {
   "cell_type": "code",
   "execution_count": 26,
   "metadata": {},
   "outputs": [
    {
     "data": {
      "text/html": [
       "<div><style>\n",
       ".dataframe > thead > tr,\n",
       ".dataframe > tbody > tr {\n",
       "  text-align: right;\n",
       "  white-space: pre-wrap;\n",
       "}\n",
       "</style>\n",
       "<small>shape: (32_256, 5)</small><table border=\"1\" class=\"dataframe\"><thead><tr><th>id</th><th>group1</th><th>group2</th><th>value</th><th>weight</th></tr><tr><td>i64</td><td>str</td><td>str</td><td>f64</td><td>i64</td></tr></thead><tbody><tr><td>18</td><td>null</td><td>&quot;Y&quot;</td><td>0.405518</td><td>null</td></tr><tr><td>20</td><td>null</td><td>&quot;Y&quot;</td><td>0.105258</td><td>null</td></tr><tr><td>67</td><td>null</td><td>&quot;Z&quot;</td><td>0.588424</td><td>null</td></tr><tr><td>68</td><td>null</td><td>&quot;Y&quot;</td><td>1.016913</td><td>null</td></tr><tr><td>78</td><td>null</td><td>&quot;Y&quot;</td><td>-0.061921</td><td>null</td></tr><tr><td>&hellip;</td><td>&hellip;</td><td>&hellip;</td><td>&hellip;</td><td>&hellip;</td></tr><tr><td>999826</td><td>null</td><td>&quot;Z&quot;</td><td>0.200896</td><td>null</td></tr><tr><td>999932</td><td>null</td><td>&quot;Y&quot;</td><td>-0.607453</td><td>null</td></tr><tr><td>999952</td><td>null</td><td>&quot;Y&quot;</td><td>-1.488471</td><td>null</td></tr><tr><td>999967</td><td>null</td><td>&quot;Z&quot;</td><td>-0.100375</td><td>null</td></tr><tr><td>999976</td><td>null</td><td>&quot;Z&quot;</td><td>0.172512</td><td>null</td></tr></tbody></table></div>"
      ],
      "text/plain": [
       "shape: (32_256, 5)\n",
       "┌────────┬────────┬────────┬───────────┬────────┐\n",
       "│ id     ┆ group1 ┆ group2 ┆ value     ┆ weight │\n",
       "│ ---    ┆ ---    ┆ ---    ┆ ---       ┆ ---    │\n",
       "│ i64    ┆ str    ┆ str    ┆ f64       ┆ i64    │\n",
       "╞════════╪════════╪════════╪═══════════╪════════╡\n",
       "│ 18     ┆ null   ┆ Y      ┆ 0.405518  ┆ null   │\n",
       "│ 20     ┆ null   ┆ Y      ┆ 0.105258  ┆ null   │\n",
       "│ 67     ┆ null   ┆ Z      ┆ 0.588424  ┆ null   │\n",
       "│ 68     ┆ null   ┆ Y      ┆ 1.016913  ┆ null   │\n",
       "│ 78     ┆ null   ┆ Y      ┆ -0.061921 ┆ null   │\n",
       "│ …      ┆ …      ┆ …      ┆ …         ┆ …      │\n",
       "│ 999826 ┆ null   ┆ Z      ┆ 0.200896  ┆ null   │\n",
       "│ 999932 ┆ null   ┆ Y      ┆ -0.607453 ┆ null   │\n",
       "│ 999952 ┆ null   ┆ Y      ┆ -1.488471 ┆ null   │\n",
       "│ 999967 ┆ null   ┆ Z      ┆ -0.100375 ┆ null   │\n",
       "│ 999976 ┆ null   ┆ Z      ┆ 0.172512  ┆ null   │\n",
       "└────────┴────────┴────────┴───────────┴────────┘"
      ]
     },
     "execution_count": 26,
     "metadata": {},
     "output_type": "execute_result"
    }
   ],
   "source": [
    "# 欠損値を持つ行を表示．\n",
    "# 結合方法を左結合にしたため，左で欠損を持つ行(厳密には，右側のデータにない結合キー)も残っている\n",
    "all_data.filter(pl.col(\"group1\").is_null())"
   ]
  },
  {
   "cell_type": "markdown",
   "metadata": {},
   "source": [
    "### 欠損値処理\n",
    "* 欠損値の除去\n",
    "    * `drop_nulls()`\n",
    "* 欠損値の補完\n",
    "    * `fill_null()`"
   ]
  },
  {
   "cell_type": "markdown",
   "metadata": {},
   "source": [
    "ここでは，分かりやすさのために，少数データで確認する"
   ]
  },
  {
   "cell_type": "code",
   "execution_count": 27,
   "metadata": {},
   "outputs": [
    {
     "data": {
      "text/html": [
       "<div><style>\n",
       ".dataframe > thead > tr,\n",
       ".dataframe > tbody > tr {\n",
       "  text-align: right;\n",
       "  white-space: pre-wrap;\n",
       "}\n",
       "</style>\n",
       "<small>shape: (4, 3)</small><table border=\"1\" class=\"dataframe\"><thead><tr><th>a</th><th>b</th><th>c</th></tr><tr><td>i64</td><td>i64</td><td>i64</td></tr></thead><tbody><tr><td>null</td><td>1</td><td>1</td></tr><tr><td>null</td><td>2</td><td>null</td></tr><tr><td>null</td><td>null</td><td>null</td></tr><tr><td>3</td><td>1</td><td>1</td></tr></tbody></table></div>"
      ],
      "text/plain": [
       "shape: (4, 3)\n",
       "┌──────┬──────┬──────┐\n",
       "│ a    ┆ b    ┆ c    │\n",
       "│ ---  ┆ ---  ┆ ---  │\n",
       "│ i64  ┆ i64  ┆ i64  │\n",
       "╞══════╪══════╪══════╡\n",
       "│ null ┆ 1    ┆ 1    │\n",
       "│ null ┆ 2    ┆ null │\n",
       "│ null ┆ null ┆ null │\n",
       "│ 3    ┆ 1    ┆ 1    │\n",
       "└──────┴──────┴──────┘"
      ]
     },
     "execution_count": 27,
     "metadata": {},
     "output_type": "execute_result"
    }
   ],
   "source": [
    "sample_data = pl.DataFrame(\n",
    "    {\n",
    "        \"a\": [None, None, None, 3],\n",
    "        \"b\": [1, 2, None, 1],\n",
    "        \"c\": [1, None, None, 1],\n",
    "    }\n",
    ")\n",
    "sample_data"
   ]
  },
  {
   "cell_type": "code",
   "execution_count": 28,
   "metadata": {},
   "outputs": [
    {
     "data": {
      "text/html": [
       "<div><style>\n",
       ".dataframe > thead > tr,\n",
       ".dataframe > tbody > tr {\n",
       "  text-align: right;\n",
       "  white-space: pre-wrap;\n",
       "}\n",
       "</style>\n",
       "<small>shape: (3, 3)</small><table border=\"1\" class=\"dataframe\"><thead><tr><th>a</th><th>b</th><th>c</th></tr><tr><td>i64</td><td>i64</td><td>i64</td></tr></thead><tbody><tr><td>null</td><td>1</td><td>1</td></tr><tr><td>null</td><td>2</td><td>null</td></tr><tr><td>3</td><td>1</td><td>1</td></tr></tbody></table></div>"
      ],
      "text/plain": [
       "shape: (3, 3)\n",
       "┌──────┬─────┬──────┐\n",
       "│ a    ┆ b   ┆ c    │\n",
       "│ ---  ┆ --- ┆ ---  │\n",
       "│ i64  ┆ i64 ┆ i64  │\n",
       "╞══════╪═════╪══════╡\n",
       "│ null ┆ 1   ┆ 1    │\n",
       "│ null ┆ 2   ┆ null │\n",
       "│ 3    ┆ 1   ┆ 1    │\n",
       "└──────┴─────┴──────┘"
      ]
     },
     "execution_count": 28,
     "metadata": {},
     "output_type": "execute_result"
    }
   ],
   "source": [
    "# b列が欠損である行を削除する\n",
    "sample_data.drop_nulls(\"b\")"
   ]
  },
  {
   "cell_type": "code",
   "execution_count": 29,
   "metadata": {},
   "outputs": [
    {
     "data": {
      "text/html": [
       "<div><style>\n",
       ".dataframe > thead > tr,\n",
       ".dataframe > tbody > tr {\n",
       "  text-align: right;\n",
       "  white-space: pre-wrap;\n",
       "}\n",
       "</style>\n",
       "<small>shape: (1, 3)</small><table border=\"1\" class=\"dataframe\"><thead><tr><th>a</th><th>b</th><th>c</th></tr><tr><td>i64</td><td>i64</td><td>i64</td></tr></thead><tbody><tr><td>3</td><td>1</td><td>1</td></tr></tbody></table></div>"
      ],
      "text/plain": [
       "shape: (1, 3)\n",
       "┌─────┬─────┬─────┐\n",
       "│ a   ┆ b   ┆ c   │\n",
       "│ --- ┆ --- ┆ --- │\n",
       "│ i64 ┆ i64 ┆ i64 │\n",
       "╞═════╪═════╪═════╡\n",
       "│ 3   ┆ 1   ┆ 1   │\n",
       "└─────┴─────┴─────┘"
      ]
     },
     "execution_count": 29,
     "metadata": {},
     "output_type": "execute_result"
    }
   ],
   "source": [
    "# 1列でも欠損値を持つ行を削除する\n",
    "sample_data.drop_nulls()"
   ]
  },
  {
   "cell_type": "code",
   "execution_count": 30,
   "metadata": {},
   "outputs": [
    {
     "data": {
      "text/html": [
       "<div><style>\n",
       ".dataframe > thead > tr,\n",
       ".dataframe > tbody > tr {\n",
       "  text-align: right;\n",
       "  white-space: pre-wrap;\n",
       "}\n",
       "</style>\n",
       "<small>shape: (3, 3)</small><table border=\"1\" class=\"dataframe\"><thead><tr><th>a</th><th>b</th><th>c</th></tr><tr><td>i64</td><td>i64</td><td>i64</td></tr></thead><tbody><tr><td>null</td><td>1</td><td>1</td></tr><tr><td>null</td><td>2</td><td>null</td></tr><tr><td>3</td><td>1</td><td>1</td></tr></tbody></table></div>"
      ],
      "text/plain": [
       "shape: (3, 3)\n",
       "┌──────┬─────┬──────┐\n",
       "│ a    ┆ b   ┆ c    │\n",
       "│ ---  ┆ --- ┆ ---  │\n",
       "│ i64  ┆ i64 ┆ i64  │\n",
       "╞══════╪═════╪══════╡\n",
       "│ null ┆ 1   ┆ 1    │\n",
       "│ null ┆ 2   ┆ null │\n",
       "│ 3    ┆ 1   ┆ 1    │\n",
       "└──────┴─────┴──────┘"
      ]
     },
     "execution_count": 30,
     "metadata": {},
     "output_type": "execute_result"
    }
   ],
   "source": [
    "# すべての列の値が空白である行を削除する\n",
    "sample_data.filter(~pl.all_horizontal(pl.all().is_null()))"
   ]
  },
  {
   "cell_type": "code",
   "execution_count": 31,
   "metadata": {},
   "outputs": [
    {
     "name": "stdout",
     "output_type": "stream",
     "text": [
      "shape: (3, 3)\n",
      "┌──────┬──────┬──────┐\n",
      "│ a    ┆ b    ┆ c    │\n",
      "│ ---  ┆ ---  ┆ ---  │\n",
      "│ null ┆ i64  ┆ i64  │\n",
      "╞══════╪══════╪══════╡\n",
      "│ null ┆ 1    ┆ 1    │\n",
      "│ null ┆ 2    ┆ null │\n",
      "│ null ┆ null ┆ null │\n",
      "└──────┴──────┴──────┘\n"
     ]
    },
    {
     "data": {
      "text/html": [
       "<div><style>\n",
       ".dataframe > thead > tr,\n",
       ".dataframe > tbody > tr {\n",
       "  text-align: right;\n",
       "  white-space: pre-wrap;\n",
       "}\n",
       "</style>\n",
       "<small>shape: (3, 2)</small><table border=\"1\" class=\"dataframe\"><thead><tr><th>b</th><th>c</th></tr><tr><td>i64</td><td>i64</td></tr></thead><tbody><tr><td>1</td><td>1</td></tr><tr><td>2</td><td>null</td></tr><tr><td>null</td><td>null</td></tr></tbody></table></div>"
      ],
      "text/plain": [
       "shape: (3, 2)\n",
       "┌──────┬──────┐\n",
       "│ b    ┆ c    │\n",
       "│ ---  ┆ ---  │\n",
       "│ i64  ┆ i64  │\n",
       "╞══════╪══════╡\n",
       "│ 1    ┆ 1    │\n",
       "│ 2    ┆ null │\n",
       "│ null ┆ null │\n",
       "└──────┴──────┘"
      ]
     },
     "execution_count": 31,
     "metadata": {},
     "output_type": "execute_result"
    }
   ],
   "source": [
    "# 全ての行が欠損である列を削除する\n",
    "sample_data2 = pl.DataFrame(\n",
    "    {\n",
    "        \"a\": [None, None, None],\n",
    "        \"b\": [1, 2, None],\n",
    "        \"c\": [1, None, None],\n",
    "    }\n",
    ")\n",
    "print(sample_data2)\n",
    "sample_data2[[s.name for s in sample_data2 if not (s.null_count() == sample_data2.height)]]"
   ]
  },
  {
   "cell_type": "code",
   "execution_count": 32,
   "metadata": {},
   "outputs": [
    {
     "data": {
      "text/html": [
       "<div><style>\n",
       ".dataframe > thead > tr,\n",
       ".dataframe > tbody > tr {\n",
       "  text-align: right;\n",
       "  white-space: pre-wrap;\n",
       "}\n",
       "</style>\n",
       "<small>shape: (4, 3)</small><table border=\"1\" class=\"dataframe\"><thead><tr><th>a</th><th>b</th><th>c</th></tr><tr><td>i64</td><td>i64</td><td>i64</td></tr></thead><tbody><tr><td>-99</td><td>1</td><td>1</td></tr><tr><td>-99</td><td>2</td><td>-99</td></tr><tr><td>-99</td><td>-99</td><td>-99</td></tr><tr><td>3</td><td>1</td><td>1</td></tr></tbody></table></div>"
      ],
      "text/plain": [
       "shape: (4, 3)\n",
       "┌─────┬─────┬─────┐\n",
       "│ a   ┆ b   ┆ c   │\n",
       "│ --- ┆ --- ┆ --- │\n",
       "│ i64 ┆ i64 ┆ i64 │\n",
       "╞═════╪═════╪═════╡\n",
       "│ -99 ┆ 1   ┆ 1   │\n",
       "│ -99 ┆ 2   ┆ -99 │\n",
       "│ -99 ┆ -99 ┆ -99 │\n",
       "│ 3   ┆ 1   ┆ 1   │\n",
       "└─────┴─────┴─────┘"
      ]
     },
     "execution_count": 32,
     "metadata": {},
     "output_type": "execute_result"
    }
   ],
   "source": [
    "# 欠損値の補完\n",
    "sample_data.fill_null(-99)"
   ]
  },
  {
   "cell_type": "code",
   "execution_count": 33,
   "metadata": {},
   "outputs": [
    {
     "data": {
      "text/html": [
       "<div><style>\n",
       ".dataframe > thead > tr,\n",
       ".dataframe > tbody > tr {\n",
       "  text-align: right;\n",
       "  white-space: pre-wrap;\n",
       "}\n",
       "</style>\n",
       "<small>shape: (4, 3)</small><table border=\"1\" class=\"dataframe\"><thead><tr><th>a</th><th>b</th><th>c</th></tr><tr><td>i64</td><td>i64</td><td>i64</td></tr></thead><tbody><tr><td>3</td><td>1</td><td>1</td></tr><tr><td>3</td><td>2</td><td>1</td></tr><tr><td>3</td><td>2</td><td>1</td></tr><tr><td>3</td><td>1</td><td>1</td></tr></tbody></table></div>"
      ],
      "text/plain": [
       "shape: (4, 3)\n",
       "┌─────┬─────┬─────┐\n",
       "│ a   ┆ b   ┆ c   │\n",
       "│ --- ┆ --- ┆ --- │\n",
       "│ i64 ┆ i64 ┆ i64 │\n",
       "╞═════╪═════╪═════╡\n",
       "│ 3   ┆ 1   ┆ 1   │\n",
       "│ 3   ┆ 2   ┆ 1   │\n",
       "│ 3   ┆ 2   ┆ 1   │\n",
       "│ 3   ┆ 1   ┆ 1   │\n",
       "└─────┴─────┴─────┘"
      ]
     },
     "execution_count": 33,
     "metadata": {},
     "output_type": "execute_result"
    }
   ],
   "source": [
    "# 欠損値を各列の最大値で補完\n",
    "sample_data.fill_null(strategy=\"max\")"
   ]
  },
  {
   "cell_type": "code",
   "execution_count": 34,
   "metadata": {},
   "outputs": [],
   "source": [
    "# 今後の処理で欠損値があると良くないので，最初のデータの欠損値を削除する\n",
    "all_data = all_data.drop_nulls()"
   ]
  },
  {
   "cell_type": "markdown",
   "metadata": {},
   "source": [
    "### 新しい列の作成\n",
    "* 列の作成\n",
    "    * `with_columns()`\n",
    "    * かなり自由度が高く，四則演算や文字列の扱い，条件分岐もデフォルトの関数で使用可能．\n",
    "    * 定義済みの関数なためパフォーマンスが非常に高い\n",
    "    * もちろん，自作関数も使用できるが，パフォーマンスが落ちるため，可能な限り適宜済み関数を用いる\n",
    "    * 自作関数を用いる場合，`map_elements(my_func, return_dtype=pl.xxx)`を用い"
   ]
  },
  {
   "cell_type": "code",
   "execution_count": 35,
   "metadata": {},
   "outputs": [
    {
     "data": {
      "text/html": [
       "<div><style>\n",
       ".dataframe > thead > tr,\n",
       ".dataframe > tbody > tr {\n",
       "  text-align: right;\n",
       "  white-space: pre-wrap;\n",
       "}\n",
       "</style>\n",
       "<small>shape: (1_436_644, 11)</small><table border=\"1\" class=\"dataframe\"><thead><tr><th>id</th><th>group1</th><th>group2</th><th>value</th><th>weight</th><th>value_x2</th><th>group1_2</th><th>value_x_weight</th><th>foo</th><th>group1_max</th><th>value_diff_max_group1</th></tr><tr><td>i64</td><td>str</td><td>str</td><td>f64</td><td>i64</td><td>f64</td><td>str</td><td>f64</td><td>f64</td><td>f64</td><td>f64</td></tr></thead><tbody><tr><td>1</td><td>&quot;C&quot;</td><td>&quot;X&quot;</td><td>0.875341</td><td>5</td><td>1.750682</td><td>&quot;C-X&quot;</td><td>4.376704</td><td>0.0</td><td>4.715991</td><td>-3.84065</td></tr><tr><td>2</td><td>&quot;C&quot;</td><td>&quot;Z&quot;</td><td>-1.274481</td><td>4</td><td>-2.548962</td><td>&quot;C-Z&quot;</td><td>-5.097924</td><td>0.0</td><td>4.715991</td><td>-5.990472</td></tr><tr><td>3</td><td>&quot;A&quot;</td><td>&quot;Z&quot;</td><td>0.29918</td><td>1</td><td>0.59836</td><td>&quot;A-Z&quot;</td><td>0.29918</td><td>0.29918</td><td>4.487273</td><td>-4.188093</td></tr><tr><td>4</td><td>&quot;C&quot;</td><td>&quot;Z&quot;</td><td>-1.326054</td><td>4</td><td>-2.652108</td><td>&quot;C-Z&quot;</td><td>-5.304215</td><td>0.0</td><td>4.715991</td><td>-6.042045</td></tr><tr><td>5</td><td>&quot;B&quot;</td><td>&quot;Z&quot;</td><td>0.166297</td><td>8</td><td>0.332593</td><td>&quot;B-Z&quot;</td><td>1.330373</td><td>16.629663</td><td>4.685746</td><td>-4.51945</td></tr><tr><td>&hellip;</td><td>&hellip;</td><td>&hellip;</td><td>&hellip;</td><td>&hellip;</td><td>&hellip;</td><td>&hellip;</td><td>&hellip;</td><td>&hellip;</td><td>&hellip;</td><td>&hellip;</td></tr><tr><td>1499996</td><td>&quot;A&quot;</td><td>&quot;X&quot;</td><td>0.166501</td><td>5</td><td>0.333003</td><td>&quot;A-X&quot;</td><td>0.832507</td><td>0.166501</td><td>4.487273</td><td>-4.320771</td></tr><tr><td>1499997</td><td>&quot;B&quot;</td><td>&quot;Z&quot;</td><td>-1.279135</td><td>8</td><td>-2.558271</td><td>&quot;B-Z&quot;</td><td>-10.233083</td><td>-127.913539</td><td>4.685746</td><td>-5.964882</td></tr><tr><td>1499998</td><td>&quot;A&quot;</td><td>&quot;Y&quot;</td><td>-0.966532</td><td>6</td><td>-1.933065</td><td>&quot;A-Y&quot;</td><td>-5.799194</td><td>-0.966532</td><td>4.487273</td><td>-5.453805</td></tr><tr><td>1499999</td><td>&quot;C&quot;</td><td>&quot;X&quot;</td><td>0.837054</td><td>5</td><td>1.674108</td><td>&quot;C-X&quot;</td><td>4.185271</td><td>0.0</td><td>4.715991</td><td>-3.878937</td></tr><tr><td>1500000</td><td>&quot;C&quot;</td><td>&quot;Z&quot;</td><td>-0.504551</td><td>4</td><td>-1.009101</td><td>&quot;C-Z&quot;</td><td>-2.018203</td><td>0.0</td><td>4.715991</td><td>-5.220542</td></tr></tbody></table></div>"
      ],
      "text/plain": [
       "shape: (1_436_644, 11)\n",
       "┌─────────┬────────┬────────┬───────────┬───┬─────────────┬─────────────┬────────────┬─────────────┐\n",
       "│ id      ┆ group1 ┆ group2 ┆ value     ┆ … ┆ value_x_wei ┆ foo         ┆ group1_max ┆ value_diff_ │\n",
       "│ ---     ┆ ---    ┆ ---    ┆ ---       ┆   ┆ ght         ┆ ---         ┆ ---        ┆ max_group1  │\n",
       "│ i64     ┆ str    ┆ str    ┆ f64       ┆   ┆ ---         ┆ f64         ┆ f64        ┆ ---         │\n",
       "│         ┆        ┆        ┆           ┆   ┆ f64         ┆             ┆            ┆ f64         │\n",
       "╞═════════╪════════╪════════╪═══════════╪═══╪═════════════╪═════════════╪════════════╪═════════════╡\n",
       "│ 1       ┆ C      ┆ X      ┆ 0.875341  ┆ … ┆ 4.376704    ┆ 0.0         ┆ 4.715991   ┆ -3.84065    │\n",
       "│ 2       ┆ C      ┆ Z      ┆ -1.274481 ┆ … ┆ -5.097924   ┆ 0.0         ┆ 4.715991   ┆ -5.990472   │\n",
       "│ 3       ┆ A      ┆ Z      ┆ 0.29918   ┆ … ┆ 0.29918     ┆ 0.29918     ┆ 4.487273   ┆ -4.188093   │\n",
       "│ 4       ┆ C      ┆ Z      ┆ -1.326054 ┆ … ┆ -5.304215   ┆ 0.0         ┆ 4.715991   ┆ -6.042045   │\n",
       "│ 5       ┆ B      ┆ Z      ┆ 0.166297  ┆ … ┆ 1.330373    ┆ 16.629663   ┆ 4.685746   ┆ -4.51945    │\n",
       "│ …       ┆ …      ┆ …      ┆ …         ┆ … ┆ …           ┆ …           ┆ …          ┆ …           │\n",
       "│ 1499996 ┆ A      ┆ X      ┆ 0.166501  ┆ … ┆ 0.832507    ┆ 0.166501    ┆ 4.487273   ┆ -4.320771   │\n",
       "│ 1499997 ┆ B      ┆ Z      ┆ -1.279135 ┆ … ┆ -10.233083  ┆ -127.913539 ┆ 4.685746   ┆ -5.964882   │\n",
       "│ 1499998 ┆ A      ┆ Y      ┆ -0.966532 ┆ … ┆ -5.799194   ┆ -0.966532   ┆ 4.487273   ┆ -5.453805   │\n",
       "│ 1499999 ┆ C      ┆ X      ┆ 0.837054  ┆ … ┆ 4.185271    ┆ 0.0         ┆ 4.715991   ┆ -3.878937   │\n",
       "│ 1500000 ┆ C      ┆ Z      ┆ -0.504551 ┆ … ┆ -2.018203   ┆ 0.0         ┆ 4.715991   ┆ -5.220542   │\n",
       "└─────────┴────────┴────────┴───────────┴───┴─────────────┴─────────────┴────────────┴─────────────┘"
      ]
     },
     "execution_count": 35,
     "metadata": {},
     "output_type": "execute_result"
    }
   ],
   "source": [
    "all_data.with_columns(\n",
    "    # 四則演算や文字列の扱い\n",
    "    (pl.col(\"value\")*2).alias(\"value_x2\"),\n",
    "    (pl.col(\"group1\") + \"-\" + pl.col(\"group2\")).alias(\"group1_2\"),\n",
    "    (pl.col(\"value\") * pl.col(\"weight\")).alias(\"value_x_weight\"),\n",
    ").with_columns(\n",
    "    # 条件分岐\n",
    "    pl.when(pl.col(\"group1\") == \"A\")\n",
    "    .then(pl.col(\"value\"))\n",
    "    .when(pl.col(\"group1\") == \"B\")\n",
    "    .then(pl.col(\"value\") * 100)\n",
    "    .otherwise(0)\n",
    "    .alias(\"foo\")\n",
    ").with_columns(\n",
    "    # グループごとに統計量を求め，その値を各行に返すことも可能\n",
    "    pl.col(\"value\").max().over(\"group1\").alias(\"group1_max\")\n",
    ").with_columns(\n",
    "    (pl.col(\"value\") - pl.col(\"group1_max\")).alias(\"value_diff_max_group1\")\n",
    ")"
   ]
  },
  {
   "cell_type": "code",
   "execution_count": 36,
   "metadata": {},
   "outputs": [],
   "source": [
    "# 自作関数を用いる場合\n",
    "def my_func(s: str):\n",
    "    if s == \"X\":\n",
    "        return \"XXX\"\n",
    "    elif s == \"Y\":\n",
    "        return \"YY\"\n",
    "    elif s == \"Z\":\n",
    "        return \"ZZZZ\"\n",
    "    else:\n",
    "        \"bar\""
   ]
  },
  {
   "cell_type": "code",
   "execution_count": 37,
   "metadata": {},
   "outputs": [
    {
     "data": {
      "text/html": [
       "<div><style>\n",
       ".dataframe > thead > tr,\n",
       ".dataframe > tbody > tr {\n",
       "  text-align: right;\n",
       "  white-space: pre-wrap;\n",
       "}\n",
       "</style>\n",
       "<small>shape: (1_436_644, 5)</small><table border=\"1\" class=\"dataframe\"><thead><tr><th>id</th><th>group1</th><th>group2</th><th>value</th><th>weight</th></tr><tr><td>i64</td><td>str</td><td>str</td><td>f64</td><td>i64</td></tr></thead><tbody><tr><td>1</td><td>&quot;C&quot;</td><td>&quot;XXX&quot;</td><td>0.875341</td><td>5</td></tr><tr><td>2</td><td>&quot;C&quot;</td><td>&quot;ZZZZ&quot;</td><td>-1.274481</td><td>4</td></tr><tr><td>3</td><td>&quot;A&quot;</td><td>&quot;ZZZZ&quot;</td><td>0.29918</td><td>1</td></tr><tr><td>4</td><td>&quot;C&quot;</td><td>&quot;ZZZZ&quot;</td><td>-1.326054</td><td>4</td></tr><tr><td>5</td><td>&quot;B&quot;</td><td>&quot;ZZZZ&quot;</td><td>0.166297</td><td>8</td></tr><tr><td>&hellip;</td><td>&hellip;</td><td>&hellip;</td><td>&hellip;</td><td>&hellip;</td></tr><tr><td>1499996</td><td>&quot;A&quot;</td><td>&quot;XXX&quot;</td><td>0.166501</td><td>5</td></tr><tr><td>1499997</td><td>&quot;B&quot;</td><td>&quot;ZZZZ&quot;</td><td>-1.279135</td><td>8</td></tr><tr><td>1499998</td><td>&quot;A&quot;</td><td>&quot;YY&quot;</td><td>-0.966532</td><td>6</td></tr><tr><td>1499999</td><td>&quot;C&quot;</td><td>&quot;XXX&quot;</td><td>0.837054</td><td>5</td></tr><tr><td>1500000</td><td>&quot;C&quot;</td><td>&quot;ZZZZ&quot;</td><td>-0.504551</td><td>4</td></tr></tbody></table></div>"
      ],
      "text/plain": [
       "shape: (1_436_644, 5)\n",
       "┌─────────┬────────┬────────┬───────────┬────────┐\n",
       "│ id      ┆ group1 ┆ group2 ┆ value     ┆ weight │\n",
       "│ ---     ┆ ---    ┆ ---    ┆ ---       ┆ ---    │\n",
       "│ i64     ┆ str    ┆ str    ┆ f64       ┆ i64    │\n",
       "╞═════════╪════════╪════════╪═══════════╪════════╡\n",
       "│ 1       ┆ C      ┆ XXX    ┆ 0.875341  ┆ 5      │\n",
       "│ 2       ┆ C      ┆ ZZZZ   ┆ -1.274481 ┆ 4      │\n",
       "│ 3       ┆ A      ┆ ZZZZ   ┆ 0.29918   ┆ 1      │\n",
       "│ 4       ┆ C      ┆ ZZZZ   ┆ -1.326054 ┆ 4      │\n",
       "│ 5       ┆ B      ┆ ZZZZ   ┆ 0.166297  ┆ 8      │\n",
       "│ …       ┆ …      ┆ …      ┆ …         ┆ …      │\n",
       "│ 1499996 ┆ A      ┆ XXX    ┆ 0.166501  ┆ 5      │\n",
       "│ 1499997 ┆ B      ┆ ZZZZ   ┆ -1.279135 ┆ 8      │\n",
       "│ 1499998 ┆ A      ┆ YY     ┆ -0.966532 ┆ 6      │\n",
       "│ 1499999 ┆ C      ┆ XXX    ┆ 0.837054  ┆ 5      │\n",
       "│ 1500000 ┆ C      ┆ ZZZZ   ┆ -0.504551 ┆ 4      │\n",
       "└─────────┴────────┴────────┴───────────┴────────┘"
      ]
     },
     "execution_count": 37,
     "metadata": {},
     "output_type": "execute_result"
    }
   ],
   "source": [
    "all_data.with_columns(\n",
    "    pl.col(\"group2\").map_elements(my_func, return_dtype=pl.String)\n",
    ")"
   ]
  },
  {
   "cell_type": "markdown",
   "metadata": {},
   "source": [
    "### 縦長データ <-> 横長データの変換\n",
    "* 縦長データ -> 横長データ\n",
    "    * `pivot`\n",
    "* 横長データ -> 縦長データ\n",
    "    * `unpivot()`"
   ]
  },
  {
   "cell_type": "code",
   "execution_count": 38,
   "metadata": {},
   "outputs": [
    {
     "data": {
      "text/html": [
       "<div><style>\n",
       ".dataframe > thead > tr,\n",
       ".dataframe > tbody > tr {\n",
       "  text-align: right;\n",
       "  white-space: pre-wrap;\n",
       "}\n",
       "</style>\n",
       "<small>shape: (6, 4)</small><table border=\"1\" class=\"dataframe\"><thead><tr><th>id</th><th>cat</th><th>value1</th><th>value2</th></tr><tr><td>i64</td><td>str</td><td>i64</td><td>i64</td></tr></thead><tbody><tr><td>1</td><td>&quot;A&quot;</td><td>10</td><td>1</td></tr><tr><td>1</td><td>&quot;B&quot;</td><td>12</td><td>2</td></tr><tr><td>1</td><td>&quot;C&quot;</td><td>14</td><td>4</td></tr><tr><td>2</td><td>&quot;A&quot;</td><td>16</td><td>6</td></tr><tr><td>2</td><td>&quot;B&quot;</td><td>18</td><td>8</td></tr><tr><td>2</td><td>&quot;C&quot;</td><td>20</td><td>10</td></tr></tbody></table></div>"
      ],
      "text/plain": [
       "shape: (6, 4)\n",
       "┌─────┬─────┬────────┬────────┐\n",
       "│ id  ┆ cat ┆ value1 ┆ value2 │\n",
       "│ --- ┆ --- ┆ ---    ┆ ---    │\n",
       "│ i64 ┆ str ┆ i64    ┆ i64    │\n",
       "╞═════╪═════╪════════╪════════╡\n",
       "│ 1   ┆ A   ┆ 10     ┆ 1      │\n",
       "│ 1   ┆ B   ┆ 12     ┆ 2      │\n",
       "│ 1   ┆ C   ┆ 14     ┆ 4      │\n",
       "│ 2   ┆ A   ┆ 16     ┆ 6      │\n",
       "│ 2   ┆ B   ┆ 18     ┆ 8      │\n",
       "│ 2   ┆ C   ┆ 20     ┆ 10     │\n",
       "└─────┴─────┴────────┴────────┘"
      ]
     },
     "execution_count": 38,
     "metadata": {},
     "output_type": "execute_result"
    }
   ],
   "source": [
    "sample_data = pl.DataFrame(\n",
    "    {\n",
    "        \"id\": [1, 1, 1, 2, 2, 2],\n",
    "        \"cat\": [\"A\", \"B\", \"C\", \"A\", \"B\", \"C\"],\n",
    "        \"value1\": [10, 12, 14, 16, 18, 20],\n",
    "        \"value2\": [1, 2, 4, 6, 8, 10],\n",
    "    }\n",
    ")\n",
    "sample_data"
   ]
  },
  {
   "cell_type": "code",
   "execution_count": 39,
   "metadata": {},
   "outputs": [
    {
     "data": {
      "text/html": [
       "<div><style>\n",
       ".dataframe > thead > tr,\n",
       ".dataframe > tbody > tr {\n",
       "  text-align: right;\n",
       "  white-space: pre-wrap;\n",
       "}\n",
       "</style>\n",
       "<small>shape: (2, 7)</small><table border=\"1\" class=\"dataframe\"><thead><tr><th>id</th><th>value1_A</th><th>value1_B</th><th>value1_C</th><th>value2_A</th><th>value2_B</th><th>value2_C</th></tr><tr><td>i64</td><td>i64</td><td>i64</td><td>i64</td><td>i64</td><td>i64</td><td>i64</td></tr></thead><tbody><tr><td>1</td><td>10</td><td>12</td><td>14</td><td>1</td><td>2</td><td>4</td></tr><tr><td>2</td><td>16</td><td>18</td><td>20</td><td>6</td><td>8</td><td>10</td></tr></tbody></table></div>"
      ],
      "text/plain": [
       "shape: (2, 7)\n",
       "┌─────┬──────────┬──────────┬──────────┬──────────┬──────────┬──────────┐\n",
       "│ id  ┆ value1_A ┆ value1_B ┆ value1_C ┆ value2_A ┆ value2_B ┆ value2_C │\n",
       "│ --- ┆ ---      ┆ ---      ┆ ---      ┆ ---      ┆ ---      ┆ ---      │\n",
       "│ i64 ┆ i64      ┆ i64      ┆ i64      ┆ i64      ┆ i64      ┆ i64      │\n",
       "╞═════╪══════════╪══════════╪══════════╪══════════╪══════════╪══════════╡\n",
       "│ 1   ┆ 10       ┆ 12       ┆ 14       ┆ 1        ┆ 2        ┆ 4        │\n",
       "│ 2   ┆ 16       ┆ 18       ┆ 20       ┆ 6        ┆ 8        ┆ 10       │\n",
       "└─────┴──────────┴──────────┴──────────┴──────────┴──────────┴──────────┘"
      ]
     },
     "execution_count": 39,
     "metadata": {},
     "output_type": "execute_result"
    }
   ],
   "source": [
    "sample_data.pivot(on=\"cat\", index=\"id\", values=[\"value1\", \"value2\"])"
   ]
  },
  {
   "cell_type": "code",
   "execution_count": 40,
   "metadata": {},
   "outputs": [
    {
     "data": {
      "text/html": [
       "<div><style>\n",
       ".dataframe > thead > tr,\n",
       ".dataframe > tbody > tr {\n",
       "  text-align: right;\n",
       "  white-space: pre-wrap;\n",
       "}\n",
       "</style>\n",
       "<small>shape: (12, 4)</small><table border=\"1\" class=\"dataframe\"><thead><tr><th>id</th><th>cat</th><th>variable</th><th>value</th></tr><tr><td>i64</td><td>str</td><td>str</td><td>i64</td></tr></thead><tbody><tr><td>1</td><td>&quot;A&quot;</td><td>&quot;value1&quot;</td><td>10</td></tr><tr><td>1</td><td>&quot;B&quot;</td><td>&quot;value1&quot;</td><td>12</td></tr><tr><td>1</td><td>&quot;C&quot;</td><td>&quot;value1&quot;</td><td>14</td></tr><tr><td>2</td><td>&quot;A&quot;</td><td>&quot;value1&quot;</td><td>16</td></tr><tr><td>2</td><td>&quot;B&quot;</td><td>&quot;value1&quot;</td><td>18</td></tr><tr><td>&hellip;</td><td>&hellip;</td><td>&hellip;</td><td>&hellip;</td></tr><tr><td>1</td><td>&quot;B&quot;</td><td>&quot;value2&quot;</td><td>2</td></tr><tr><td>1</td><td>&quot;C&quot;</td><td>&quot;value2&quot;</td><td>4</td></tr><tr><td>2</td><td>&quot;A&quot;</td><td>&quot;value2&quot;</td><td>6</td></tr><tr><td>2</td><td>&quot;B&quot;</td><td>&quot;value2&quot;</td><td>8</td></tr><tr><td>2</td><td>&quot;C&quot;</td><td>&quot;value2&quot;</td><td>10</td></tr></tbody></table></div>"
      ],
      "text/plain": [
       "shape: (12, 4)\n",
       "┌─────┬─────┬──────────┬───────┐\n",
       "│ id  ┆ cat ┆ variable ┆ value │\n",
       "│ --- ┆ --- ┆ ---      ┆ ---   │\n",
       "│ i64 ┆ str ┆ str      ┆ i64   │\n",
       "╞═════╪═════╪══════════╪═══════╡\n",
       "│ 1   ┆ A   ┆ value1   ┆ 10    │\n",
       "│ 1   ┆ B   ┆ value1   ┆ 12    │\n",
       "│ 1   ┆ C   ┆ value1   ┆ 14    │\n",
       "│ 2   ┆ A   ┆ value1   ┆ 16    │\n",
       "│ 2   ┆ B   ┆ value1   ┆ 18    │\n",
       "│ …   ┆ …   ┆ …        ┆ …     │\n",
       "│ 1   ┆ B   ┆ value2   ┆ 2     │\n",
       "│ 1   ┆ C   ┆ value2   ┆ 4     │\n",
       "│ 2   ┆ A   ┆ value2   ┆ 6     │\n",
       "│ 2   ┆ B   ┆ value2   ┆ 8     │\n",
       "│ 2   ┆ C   ┆ value2   ┆ 10    │\n",
       "└─────┴─────┴──────────┴───────┘"
      ]
     },
     "execution_count": 40,
     "metadata": {},
     "output_type": "execute_result"
    }
   ],
   "source": [
    "# ピボット解除\n",
    "sample_data.unpivot(on=[\"value1\", \"value2\"], index=[\"id\", \"cat\"])"
   ]
  },
  {
   "cell_type": "code",
   "execution_count": 41,
   "metadata": {},
   "outputs": [
    {
     "data": {
      "text/html": [
       "<div><style>\n",
       ".dataframe > thead > tr,\n",
       ".dataframe > tbody > tr {\n",
       "  text-align: right;\n",
       "  white-space: pre-wrap;\n",
       "}\n",
       "</style>\n",
       "<small>shape: (6, 4)</small><table border=\"1\" class=\"dataframe\"><thead><tr><th>id</th><th>cat</th><th>value1</th><th>value2</th></tr><tr><td>i64</td><td>str</td><td>i64</td><td>i64</td></tr></thead><tbody><tr><td>1</td><td>&quot;A&quot;</td><td>10</td><td>1</td></tr><tr><td>1</td><td>&quot;A&quot;</td><td>-10</td><td>2</td></tr><tr><td>1</td><td>&quot;C&quot;</td><td>14</td><td>4</td></tr><tr><td>2</td><td>&quot;A&quot;</td><td>16</td><td>6</td></tr><tr><td>2</td><td>&quot;B&quot;</td><td>18</td><td>8</td></tr><tr><td>2</td><td>&quot;C&quot;</td><td>20</td><td>10</td></tr></tbody></table></div>"
      ],
      "text/plain": [
       "shape: (6, 4)\n",
       "┌─────┬─────┬────────┬────────┐\n",
       "│ id  ┆ cat ┆ value1 ┆ value2 │\n",
       "│ --- ┆ --- ┆ ---    ┆ ---    │\n",
       "│ i64 ┆ str ┆ i64    ┆ i64    │\n",
       "╞═════╪═════╪════════╪════════╡\n",
       "│ 1   ┆ A   ┆ 10     ┆ 1      │\n",
       "│ 1   ┆ A   ┆ -10    ┆ 2      │\n",
       "│ 1   ┆ C   ┆ 14     ┆ 4      │\n",
       "│ 2   ┆ A   ┆ 16     ┆ 6      │\n",
       "│ 2   ┆ B   ┆ 18     ┆ 8      │\n",
       "│ 2   ┆ C   ┆ 20     ┆ 10     │\n",
       "└─────┴─────┴────────┴────────┘"
      ]
     },
     "execution_count": 41,
     "metadata": {},
     "output_type": "execute_result"
    }
   ],
   "source": [
    "sample_data2 = pl.DataFrame(\n",
    "    {\n",
    "        \"id\": [1, 1, 1, 2, 2, 2],\n",
    "        \"cat\": [\"A\", \"A\", \"C\", \"A\", \"B\", \"C\"],\n",
    "        \"value1\": [10, -10, 14, 16, 18, 20],\n",
    "        \"value2\": [1, 2, 4, 6, 8, 10],\n",
    "    }\n",
    ")\n",
    "sample_data2"
   ]
  },
  {
   "cell_type": "code",
   "execution_count": 42,
   "metadata": {},
   "outputs": [
    {
     "data": {
      "text/html": [
       "<div><style>\n",
       ".dataframe > thead > tr,\n",
       ".dataframe > tbody > tr {\n",
       "  text-align: right;\n",
       "  white-space: pre-wrap;\n",
       "}\n",
       "</style>\n",
       "<small>shape: (2, 7)</small><table border=\"1\" class=\"dataframe\"><thead><tr><th>id</th><th>value1_A</th><th>value1_C</th><th>value1_B</th><th>value2_A</th><th>value2_C</th><th>value2_B</th></tr><tr><td>i64</td><td>list[i64]</td><td>list[i64]</td><td>list[i64]</td><td>list[i64]</td><td>list[i64]</td><td>list[i64]</td></tr></thead><tbody><tr><td>1</td><td>[10, -10]</td><td>[14]</td><td>null</td><td>[1, 2]</td><td>[4]</td><td>null</td></tr><tr><td>2</td><td>[16]</td><td>[20]</td><td>[18]</td><td>[6]</td><td>[10]</td><td>[8]</td></tr></tbody></table></div>"
      ],
      "text/plain": [
       "shape: (2, 7)\n",
       "┌─────┬───────────┬───────────┬───────────┬───────────┬───────────┬───────────┐\n",
       "│ id  ┆ value1_A  ┆ value1_C  ┆ value1_B  ┆ value2_A  ┆ value2_C  ┆ value2_B  │\n",
       "│ --- ┆ ---       ┆ ---       ┆ ---       ┆ ---       ┆ ---       ┆ ---       │\n",
       "│ i64 ┆ list[i64] ┆ list[i64] ┆ list[i64] ┆ list[i64] ┆ list[i64] ┆ list[i64] │\n",
       "╞═════╪═══════════╪═══════════╪═══════════╪═══════════╪═══════════╪═══════════╡\n",
       "│ 1   ┆ [10, -10] ┆ [14]      ┆ null      ┆ [1, 2]    ┆ [4]       ┆ null      │\n",
       "│ 2   ┆ [16]      ┆ [20]      ┆ [18]      ┆ [6]       ┆ [10]      ┆ [8]       │\n",
       "└─────┴───────────┴───────────┴───────────┴───────────┴───────────┴───────────┘"
      ]
     },
     "execution_count": 42,
     "metadata": {},
     "output_type": "execute_result"
    }
   ],
   "source": [
    "# 重複がある場合， `aggregate_function`に引数を与える\n",
    "# 計算結果ではなく，どんな値が入っているかを確かめたいときは， `pl.element`とすると，値の配列が得られる\n",
    "sample_data2.pivot(on=\"cat\", index=\"id\", values=[\"value1\", \"value2\"], aggregate_function=pl.element())"
   ]
  },
  {
   "cell_type": "code",
   "execution_count": null,
   "metadata": {},
   "outputs": [],
   "source": []
  }
 ],
 "metadata": {
  "kernelspec": {
   "display_name": "Python 3",
   "language": "python",
   "name": "python3"
  },
  "language_info": {
   "codemirror_mode": {
    "name": "ipython",
    "version": 3
   },
   "file_extension": ".py",
   "mimetype": "text/x-python",
   "name": "python",
   "nbconvert_exporter": "python",
   "pygments_lexer": "ipython3",
   "version": "3.12.4"
  }
 },
 "nbformat": 4,
 "nbformat_minor": 2
}
